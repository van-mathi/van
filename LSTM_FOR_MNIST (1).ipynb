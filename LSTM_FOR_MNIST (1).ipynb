{
  "nbformat": 4,
  "nbformat_minor": 0,
  "metadata": {
    "colab": {
      "provenance": []
    },
    "kernelspec": {
      "name": "python3",
      "display_name": "Python 3"
    },
    "language_info": {
      "name": "python"
    }
  },
  "cells": [
    {
      "cell_type": "code",
      "execution_count": 1,
      "metadata": {
        "id": "pqkjnrTOGwAV"
      },
      "outputs": [],
      "source": [
        "import numpy as np\n",
        "import tensorflow as tf\n",
        "from tensorflow.keras.datasets import mnist\n",
        "from tensorflow.keras.models import Sequential\n",
        "from tensorflow.keras.layers import LSTM, Dense"
      ]
    },
    {
      "cell_type": "code",
      "source": [
        "# Load and preprocess the MNIST dataset\n",
        "(X_train, y_train), (X_test, y_test) = mnist.load_data()"
      ],
      "metadata": {
        "id": "C3yzmJqeG1Tx",
        "colab": {
          "base_uri": "https://localhost:8080/"
        },
        "outputId": "a8f65aa8-545d-45c2-d2ac-e0a4f2afab0f"
      },
      "execution_count": 2,
      "outputs": [
        {
          "output_type": "stream",
          "name": "stdout",
          "text": [
            "Downloading data from https://storage.googleapis.com/tensorflow/tf-keras-datasets/mnist.npz\n",
            "11490434/11490434 [==============================] - 1s 0us/step\n"
          ]
        }
      ]
    },
    {
      "cell_type": "code",
      "source": [
        "#Normalize the pixel values to range [0, 1]\n",
        "X_train = X_train.astype('float32') / 255.0\n",
        "X_test = X_test.astype('float32') / 255.0"
      ],
      "metadata": {
        "id": "O_O-J5O_G1Wl"
      },
      "execution_count": 6,
      "outputs": []
    },
    {
      "cell_type": "code",
      "source": [
        "X_train = X_train.reshape(-1,28,28)\n",
        "X_test = X_test.reshape(-1,28,28)"
      ],
      "metadata": {
        "id": "RKl4xCvlG1Zc"
      },
      "execution_count": 7,
      "outputs": []
    },
    {
      "cell_type": "code",
      "source": [
        "from tensorflow.keras.utils import to_categorical\n",
        "# One-hot encode the target labels\n",
        "y_train = to_categorical(y_train, 10)\n",
        "y_test = to_categorical(y_test, 10)"
      ],
      "metadata": {
        "id": "m_LL3Ag-HDnX"
      },
      "execution_count": 9,
      "outputs": []
    },
    {
      "cell_type": "code",
      "source": [
        "# Build the LSTM model\n",
        "model = Sequential([\n",
        "    LSTM(128, input_shape=(28,28)),\n",
        "    Dense(10, activation='softmax')\n",
        "])"
      ],
      "metadata": {
        "id": "m63BT7LRHDqA"
      },
      "execution_count": 10,
      "outputs": []
    },
    {
      "cell_type": "code",
      "source": [
        "# Compile the model\n",
        "model.compile(optimizer='adam', loss='categorical_crossentropy', metrics=['accuracy'])"
      ],
      "metadata": {
        "id": "10fXr_JcHDuZ"
      },
      "execution_count": 11,
      "outputs": []
    },
    {
      "cell_type": "code",
      "source": [
        "# Train the model\n",
        "model.fit(X_train, y_train, epochs=10, batch_size=32, validation_split=0.1)"
      ],
      "metadata": {
        "id": "ht4lqQwuHJsA",
        "colab": {
          "base_uri": "https://localhost:8080/"
        },
        "outputId": "c2635b43-4fcb-4928-fe3a-9761a9989451"
      },
      "execution_count": 12,
      "outputs": [
        {
          "output_type": "stream",
          "name": "stdout",
          "text": [
            "Epoch 1/10\n",
            "1688/1688 [==============================] - 84s 48ms/step - loss: 0.3582 - accuracy: 0.8853 - val_loss: 0.1151 - val_accuracy: 0.9665\n",
            "Epoch 2/10\n",
            "1688/1688 [==============================] - 80s 47ms/step - loss: 0.1113 - accuracy: 0.9663 - val_loss: 0.0820 - val_accuracy: 0.9772\n",
            "Epoch 3/10\n",
            "1688/1688 [==============================] - 78s 46ms/step - loss: 0.0765 - accuracy: 0.9768 - val_loss: 0.0696 - val_accuracy: 0.9797\n",
            "Epoch 4/10\n",
            "1688/1688 [==============================] - 78s 46ms/step - loss: 0.0599 - accuracy: 0.9816 - val_loss: 0.0524 - val_accuracy: 0.9860\n",
            "Epoch 5/10\n",
            "1688/1688 [==============================] - 79s 47ms/step - loss: 0.0502 - accuracy: 0.9848 - val_loss: 0.0489 - val_accuracy: 0.9857\n",
            "Epoch 6/10\n",
            "1688/1688 [==============================] - 78s 46ms/step - loss: 0.0405 - accuracy: 0.9875 - val_loss: 0.0487 - val_accuracy: 0.9847\n",
            "Epoch 7/10\n",
            "1688/1688 [==============================] - 79s 47ms/step - loss: 0.0346 - accuracy: 0.9892 - val_loss: 0.0402 - val_accuracy: 0.9883\n",
            "Epoch 8/10\n",
            "1688/1688 [==============================] - 81s 48ms/step - loss: 0.0315 - accuracy: 0.9904 - val_loss: 0.0453 - val_accuracy: 0.9893\n",
            "Epoch 9/10\n",
            "1688/1688 [==============================] - 80s 47ms/step - loss: 0.0270 - accuracy: 0.9917 - val_loss: 0.0446 - val_accuracy: 0.9873\n",
            "Epoch 10/10\n",
            "1688/1688 [==============================] - 78s 46ms/step - loss: 0.0234 - accuracy: 0.9928 - val_loss: 0.0398 - val_accuracy: 0.9888\n"
          ]
        },
        {
          "output_type": "execute_result",
          "data": {
            "text/plain": [
              "<keras.callbacks.History at 0x79da9c565330>"
            ]
          },
          "metadata": {},
          "execution_count": 12
        }
      ]
    },
    {
      "cell_type": "code",
      "source": [
        "# Evaluate the model on the test set\n",
        "loss, accuracy = model.evaluate(X_test, y_test)\n",
        "print(f'Test Loss: {loss}, Test Accuracy: {accuracy}')"
      ],
      "metadata": {
        "id": "nrPOUHoZHJuu",
        "colab": {
          "base_uri": "https://localhost:8080/"
        },
        "outputId": "e242819c-3385-4bc6-c21a-f175350fdcda"
      },
      "execution_count": 13,
      "outputs": [
        {
          "output_type": "stream",
          "name": "stdout",
          "text": [
            "313/313 [==============================] - 6s 20ms/step - loss: 0.0465 - accuracy: 0.9866\n",
            "Test Loss: 0.046544235199689865, Test Accuracy: 0.9865999817848206\n"
          ]
        }
      ]
    }
  ]
}