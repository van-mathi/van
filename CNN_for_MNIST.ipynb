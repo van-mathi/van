{
  "nbformat": 4,
  "nbformat_minor": 0,
  "metadata": {
    "colab": {
      "provenance": []
    },
    "kernelspec": {
      "name": "python3",
      "display_name": "Python 3"
    },
    "language_info": {
      "name": "python"
    }
  },
  "cells": [
    {
      "cell_type": "code",
      "execution_count": 1,
      "metadata": {
        "id": "RNZDFV_9FZwQ"
      },
      "outputs": [],
      "source": [
        "import numpy as np\n",
        "import tensorflow as tf\n",
        "from tensorflow.keras.datasets import mnist\n",
        "from tensorflow.keras.models import Sequential\n",
        "from tensorflow.keras.layers import Conv2D, MaxPooling2D, Flatten, Dense\n",
        "from tensorflow.keras.utils import to_categorical"
      ]
    },
    {
      "cell_type": "code",
      "source": [
        "# Load and preprocess the MNIST dataset\n",
        "(X_train, y_train), (X_test, y_test) = mnist.load_data()"
      ],
      "metadata": {
        "colab": {
          "base_uri": "https://localhost:8080/"
        },
        "id": "dTD3iH5IFfgt",
        "outputId": "49d9f5c4-1fbd-444a-ddc3-97c50651996e"
      },
      "execution_count": 2,
      "outputs": [
        {
          "output_type": "stream",
          "name": "stdout",
          "text": [
            "Downloading data from https://storage.googleapis.com/tensorflow/tf-keras-datasets/mnist.npz\n",
            "11490434/11490434 [==============================] - 0s 0us/step\n"
          ]
        }
      ]
    },
    {
      "cell_type": "code",
      "source": [
        "# Normalize the pixel values to range [0, 1]\n",
        "X_train = X_train.astype('float32') / 255.0\n",
        "X_test = X_test.astype('float32') / 255.0"
      ],
      "metadata": {
        "id": "IYpkE8S4FgQX"
      },
      "execution_count": 3,
      "outputs": []
    },
    {
      "cell_type": "code",
      "source": [
        "# Reshape the data to add a channel dimension for grayscale images (1 channel)\n",
        "X_train = X_train.reshape(-1, 28, 28, 1)\n",
        "X_test = X_test.reshape(-1, 28, 28, 1)"
      ],
      "metadata": {
        "id": "7XtcXEDLFjUG"
      },
      "execution_count": 4,
      "outputs": []
    },
    {
      "cell_type": "code",
      "source": [
        "# One-hot encode the target labels\n",
        "y_train = to_categorical(y_train, 10)\n",
        "y_test = to_categorical(y_test, 10)"
      ],
      "metadata": {
        "id": "fjI-VZKhFl2m"
      },
      "execution_count": 5,
      "outputs": []
    },
    {
      "cell_type": "code",
      "source": [
        "# Build the CNN model\n",
        "model = Sequential([\n",
        "    Conv2D(32, (3, 3), activation='relu', input_shape=(28, 28, 1)),\n",
        "    MaxPooling2D((2, 2)),\n",
        "    Conv2D(64, (3, 3), activation='relu'),\n",
        "    MaxPooling2D((2, 2)),\n",
        "    Flatten(),\n",
        "    Dense(128, activation='relu'),\n",
        "    Dense(10, activation='softmax')\n",
        "])"
      ],
      "metadata": {
        "id": "jUkaYFgzFoiE"
      },
      "execution_count": 6,
      "outputs": []
    },
    {
      "cell_type": "code",
      "source": [
        "# Compile the model\n",
        "model.compile(optimizer='adam', loss='categorical_crossentropy', metrics=['accuracy'])"
      ],
      "metadata": {
        "id": "Vb0oQoOUFrY9"
      },
      "execution_count": 7,
      "outputs": []
    },
    {
      "cell_type": "code",
      "source": [
        "# Train the model\n",
        "model.fit(X_train, y_train, epochs=10, batch_size=128, validation_split=0.1)"
      ],
      "metadata": {
        "colab": {
          "base_uri": "https://localhost:8080/"
        },
        "id": "49rRXVOoFuF5",
        "outputId": "80bf994a-34dc-4d2f-f2ad-da533a9d3701"
      },
      "execution_count": 8,
      "outputs": [
        {
          "output_type": "stream",
          "name": "stdout",
          "text": [
            "Epoch 1/10\n",
            "422/422 [==============================] - 55s 126ms/step - loss: 0.2109 - accuracy: 0.9383 - val_loss: 0.0561 - val_accuracy: 0.9838\n",
            "Epoch 2/10\n",
            "422/422 [==============================] - 53s 126ms/step - loss: 0.0603 - accuracy: 0.9814 - val_loss: 0.0454 - val_accuracy: 0.9865\n",
            "Epoch 3/10\n",
            "422/422 [==============================] - 53s 125ms/step - loss: 0.0403 - accuracy: 0.9874 - val_loss: 0.0464 - val_accuracy: 0.9867\n",
            "Epoch 4/10\n",
            "422/422 [==============================] - 54s 127ms/step - loss: 0.0306 - accuracy: 0.9905 - val_loss: 0.0389 - val_accuracy: 0.9873\n",
            "Epoch 5/10\n",
            "422/422 [==============================] - 55s 131ms/step - loss: 0.0266 - accuracy: 0.9914 - val_loss: 0.0352 - val_accuracy: 0.9910\n",
            "Epoch 6/10\n",
            "422/422 [==============================] - 51s 122ms/step - loss: 0.0204 - accuracy: 0.9937 - val_loss: 0.0368 - val_accuracy: 0.9908\n",
            "Epoch 7/10\n",
            "422/422 [==============================] - 53s 127ms/step - loss: 0.0150 - accuracy: 0.9954 - val_loss: 0.0383 - val_accuracy: 0.9907\n",
            "Epoch 8/10\n",
            "422/422 [==============================] - 54s 129ms/step - loss: 0.0116 - accuracy: 0.9964 - val_loss: 0.0401 - val_accuracy: 0.9890\n",
            "Epoch 9/10\n",
            "422/422 [==============================] - 52s 123ms/step - loss: 0.0104 - accuracy: 0.9966 - val_loss: 0.0395 - val_accuracy: 0.9910\n",
            "Epoch 10/10\n",
            "422/422 [==============================] - 52s 123ms/step - loss: 0.0089 - accuracy: 0.9970 - val_loss: 0.0409 - val_accuracy: 0.9905\n"
          ]
        },
        {
          "output_type": "execute_result",
          "data": {
            "text/plain": [
              "<keras.callbacks.History at 0x783e2e9126b0>"
            ]
          },
          "metadata": {},
          "execution_count": 8
        }
      ]
    },
    {
      "cell_type": "code",
      "source": [
        "# Evaluate the model on the test set\n",
        "loss, accuracy = model.evaluate(X_test, y_test)\n",
        "print(f'Test Loss: {loss}, Test Accuracy: {accuracy}')"
      ],
      "metadata": {
        "colab": {
          "base_uri": "https://localhost:8080/"
        },
        "id": "0jaZG9ZsFyrf",
        "outputId": "8e68101a-277e-4b82-8b50-aec14bd44c09"
      },
      "execution_count": 9,
      "outputs": [
        {
          "output_type": "stream",
          "name": "stdout",
          "text": [
            "313/313 [==============================] - 3s 10ms/step - loss: 0.0282 - accuracy: 0.9920\n",
            "Test Loss: 0.028249196708202362, Test Accuracy: 0.9919999837875366\n"
          ]
        }
      ]
    }
  ]
}