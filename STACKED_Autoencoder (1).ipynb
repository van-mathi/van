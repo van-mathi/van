{
  "cells": [
    {
      "cell_type": "markdown",
      "source": [
        "Autoencoder"
      ],
      "metadata": {
        "id": "-lkHTZYWHjDA"
      }
    },
    {
      "cell_type": "code",
      "execution_count": 1,
      "metadata": {
        "id": "iKKCq37R_pbR"
      },
      "outputs": [],
      "source": [
        "from tensorflow.keras.datasets import mnist\n",
        "from tensorflow.keras.layers import Dense, Input, Flatten,\\\n",
        "Reshape, LeakyReLU as LR,\\\n",
        "Activation, Dropout\n",
        "from tensorflow.keras.models import Model, Sequential\n",
        "from matplotlib import pyplot as plt\n",
        "from IPython import display # If using IPython, Colab or Jupyter\n",
        "import numpy as np"
      ]
    },
    {
      "cell_type": "code",
      "execution_count": 2,
      "metadata": {
        "id": "7X6cXBVTHgQ7"
      },
      "outputs": [],
      "source": [
        "import numpy as np\n",
        "from tensorflow.keras.datasets import mnist\n",
        "from tensorflow.keras.layers import Dense, Input, Flatten, Activation\n",
        "from tensorflow.keras.models import Model, Sequential"
      ]
    },
    {
      "cell_type": "code",
      "execution_count": 3,
      "metadata": {
        "colab": {
          "base_uri": "https://localhost:8080/"
        },
        "id": "nwIXAJBR_u3k",
        "outputId": "4d7f5505-3928-4d2a-8994-e93790f521d0"
      },
      "outputs": [
        {
          "output_type": "stream",
          "name": "stdout",
          "text": [
            "Downloading data from https://storage.googleapis.com/tensorflow/tf-keras-datasets/mnist.npz\n",
            "11490434/11490434 [==============================] - 0s 0us/step\n"
          ]
        }
      ],
      "source": [
        "(x_train, y_train), (x_test, y_test) = mnist.load_data()\n",
        "x_train = x_train/255.0\n",
        "x_test = x_test/255.0"
      ]
    },
    {
      "cell_type": "code",
      "execution_count": 4,
      "metadata": {
        "colab": {
          "base_uri": "https://localhost:8080/"
        },
        "id": "t0G1tfl4_0JP",
        "outputId": "aa2cb0cd-e3ac-471b-8953-a45c53cbef7a"
      },
      "outputs": [
        {
          "output_type": "stream",
          "name": "stdout",
          "text": [
            "Model: \"model\"\n",
            "_________________________________________________________________\n",
            " Layer (type)                Output Shape              Param #   \n",
            "=================================================================\n",
            " input_1 (InputLayer)        [(None, 28, 28)]          0         \n",
            "                                                                 \n",
            " dense (Dense)               (None, 28, 32)            928       \n",
            "                                                                 \n",
            " dense_1 (Dense)             (None, 28, 28)            924       \n",
            "                                                                 \n",
            "=================================================================\n",
            "Total params: 1,852\n",
            "Trainable params: 1,852\n",
            "Non-trainable params: 0\n",
            "_________________________________________________________________\n"
          ]
        }
      ],
      "source": [
        "InputModel = Input(shape=(28,28))\n",
        "EncodedLayer = Dense(32, activation='relu')(InputModel)\n",
        "DecodedLayer = Dense(28, activation='sigmoid')(EncodedLayer)\n",
        "AutoencoderModel = Model(InputModel, DecodedLayer)\n",
        "# we can summarize our model.\n",
        "AutoencoderModel.summary()"
      ]
    },
    {
      "cell_type": "code",
      "execution_count": 5,
      "metadata": {
        "id": "TUS2cHypABBU"
      },
      "outputs": [],
      "source": [
        "AutoencoderModel.compile(optimizer='adadelta', loss='binary_crossentropy')"
      ]
    },
    {
      "cell_type": "code",
      "execution_count": 6,
      "metadata": {
        "colab": {
          "base_uri": "https://localhost:8080/"
        },
        "id": "LPiWjdV3AF9X",
        "outputId": "fc0587ab-93f6-4b1c-9398-1c6f6bf5493e"
      },
      "outputs": [
        {
          "output_type": "stream",
          "name": "stdout",
          "text": [
            "Epoch 1/100\n",
            "235/235 [==============================] - 11s 34ms/step - loss: 0.7118 - val_loss: 0.7120\n",
            "Epoch 2/100\n",
            "235/235 [==============================] - 4s 17ms/step - loss: 0.7109 - val_loss: 0.7110\n",
            "Epoch 3/100\n",
            "235/235 [==============================] - 4s 18ms/step - loss: 0.7099 - val_loss: 0.7099\n",
            "Epoch 4/100\n",
            "235/235 [==============================] - 3s 13ms/step - loss: 0.7087 - val_loss: 0.7087\n",
            "Epoch 5/100\n",
            "235/235 [==============================] - 3s 12ms/step - loss: 0.7076 - val_loss: 0.7075\n",
            "Epoch 6/100\n",
            "235/235 [==============================] - 3s 13ms/step - loss: 0.7063 - val_loss: 0.7062\n",
            "Epoch 7/100\n",
            "235/235 [==============================] - 4s 17ms/step - loss: 0.7050 - val_loss: 0.7048\n",
            "Epoch 8/100\n",
            "235/235 [==============================] - 3s 13ms/step - loss: 0.7037 - val_loss: 0.7034\n",
            "Epoch 9/100\n",
            "235/235 [==============================] - 3s 12ms/step - loss: 0.7023 - val_loss: 0.7020\n",
            "Epoch 10/100\n",
            "235/235 [==============================] - 3s 13ms/step - loss: 0.7009 - val_loss: 0.7006\n",
            "Epoch 11/100\n",
            "235/235 [==============================] - 4s 17ms/step - loss: 0.6994 - val_loss: 0.6991\n",
            "Epoch 12/100\n",
            "235/235 [==============================] - 3s 12ms/step - loss: 0.6980 - val_loss: 0.6976\n",
            "Epoch 13/100\n",
            "235/235 [==============================] - 3s 13ms/step - loss: 0.6965 - val_loss: 0.6961\n",
            "Epoch 14/100\n",
            "235/235 [==============================] - 3s 12ms/step - loss: 0.6950 - val_loss: 0.6946\n",
            "Epoch 15/100\n",
            "235/235 [==============================] - 4s 18ms/step - loss: 0.6934 - val_loss: 0.6930\n",
            "Epoch 16/100\n",
            "235/235 [==============================] - 3s 13ms/step - loss: 0.6919 - val_loss: 0.6914\n",
            "Epoch 17/100\n",
            "235/235 [==============================] - 3s 14ms/step - loss: 0.6903 - val_loss: 0.6898\n",
            "Epoch 18/100\n",
            "235/235 [==============================] - 3s 14ms/step - loss: 0.6887 - val_loss: 0.6882\n",
            "Epoch 19/100\n",
            "235/235 [==============================] - 4s 17ms/step - loss: 0.6871 - val_loss: 0.6866\n",
            "Epoch 20/100\n",
            "235/235 [==============================] - 3s 13ms/step - loss: 0.6855 - val_loss: 0.6850\n",
            "Epoch 21/100\n",
            "235/235 [==============================] - 3s 13ms/step - loss: 0.6839 - val_loss: 0.6833\n",
            "Epoch 22/100\n",
            "235/235 [==============================] - 3s 12ms/step - loss: 0.6823 - val_loss: 0.6817\n",
            "Epoch 23/100\n",
            "235/235 [==============================] - 4s 18ms/step - loss: 0.6806 - val_loss: 0.6800\n",
            "Epoch 24/100\n",
            "235/235 [==============================] - 3s 13ms/step - loss: 0.6790 - val_loss: 0.6783\n",
            "Epoch 25/100\n",
            "235/235 [==============================] - 3s 13ms/step - loss: 0.6773 - val_loss: 0.6766\n",
            "Epoch 26/100\n",
            "235/235 [==============================] - 4s 15ms/step - loss: 0.6756 - val_loss: 0.6749\n",
            "Epoch 27/100\n",
            "235/235 [==============================] - 4s 17ms/step - loss: 0.6739 - val_loss: 0.6732\n",
            "Epoch 28/100\n",
            "235/235 [==============================] - 3s 13ms/step - loss: 0.6722 - val_loss: 0.6715\n",
            "Epoch 29/100\n",
            "235/235 [==============================] - 4s 16ms/step - loss: 0.6705 - val_loss: 0.6697\n",
            "Epoch 30/100\n",
            "235/235 [==============================] - 4s 17ms/step - loss: 0.6688 - val_loss: 0.6680\n",
            "Epoch 31/100\n",
            "235/235 [==============================] - 3s 14ms/step - loss: 0.6670 - val_loss: 0.6662\n",
            "Epoch 32/100\n",
            "235/235 [==============================] - 3s 13ms/step - loss: 0.6653 - val_loss: 0.6644\n",
            "Epoch 33/100\n",
            "235/235 [==============================] - 3s 13ms/step - loss: 0.6635 - val_loss: 0.6627\n",
            "Epoch 34/100\n",
            "235/235 [==============================] - 4s 18ms/step - loss: 0.6617 - val_loss: 0.6609\n",
            "Epoch 35/100\n",
            "235/235 [==============================] - 3s 12ms/step - loss: 0.6599 - val_loss: 0.6590\n",
            "Epoch 36/100\n",
            "235/235 [==============================] - 3s 13ms/step - loss: 0.6581 - val_loss: 0.6572\n",
            "Epoch 37/100\n",
            "235/235 [==============================] - 3s 12ms/step - loss: 0.6563 - val_loss: 0.6554\n",
            "Epoch 38/100\n",
            "235/235 [==============================] - 4s 18ms/step - loss: 0.6545 - val_loss: 0.6535\n",
            "Epoch 39/100\n",
            "235/235 [==============================] - 3s 12ms/step - loss: 0.6527 - val_loss: 0.6517\n",
            "Epoch 40/100\n",
            "235/235 [==============================] - 3s 13ms/step - loss: 0.6508 - val_loss: 0.6498\n",
            "Epoch 41/100\n",
            "235/235 [==============================] - 3s 13ms/step - loss: 0.6489 - val_loss: 0.6479\n",
            "Epoch 42/100\n",
            "235/235 [==============================] - 4s 17ms/step - loss: 0.6471 - val_loss: 0.6460\n",
            "Epoch 43/100\n",
            "235/235 [==============================] - 3s 13ms/step - loss: 0.6452 - val_loss: 0.6441\n",
            "Epoch 44/100\n",
            "235/235 [==============================] - 3s 12ms/step - loss: 0.6433 - val_loss: 0.6422\n",
            "Epoch 45/100\n",
            "235/235 [==============================] - 3s 13ms/step - loss: 0.6413 - val_loss: 0.6402\n",
            "Epoch 46/100\n",
            "235/235 [==============================] - 4s 17ms/step - loss: 0.6394 - val_loss: 0.6382\n",
            "Epoch 47/100\n",
            "235/235 [==============================] - 3s 12ms/step - loss: 0.6375 - val_loss: 0.6363\n",
            "Epoch 48/100\n",
            "235/235 [==============================] - 3s 13ms/step - loss: 0.6355 - val_loss: 0.6343\n",
            "Epoch 49/100\n",
            "235/235 [==============================] - 3s 12ms/step - loss: 0.6335 - val_loss: 0.6323\n",
            "Epoch 50/100\n",
            "235/235 [==============================] - 4s 17ms/step - loss: 0.6315 - val_loss: 0.6303\n",
            "Epoch 51/100\n",
            "235/235 [==============================] - 3s 14ms/step - loss: 0.6295 - val_loss: 0.6282\n",
            "Epoch 52/100\n",
            "235/235 [==============================] - 3s 12ms/step - loss: 0.6275 - val_loss: 0.6262\n",
            "Epoch 53/100\n",
            "235/235 [==============================] - 3s 12ms/step - loss: 0.6254 - val_loss: 0.6241\n",
            "Epoch 54/100\n",
            "235/235 [==============================] - 4s 17ms/step - loss: 0.6234 - val_loss: 0.6221\n",
            "Epoch 55/100\n",
            "235/235 [==============================] - 3s 12ms/step - loss: 0.6213 - val_loss: 0.6200\n",
            "Epoch 56/100\n",
            "235/235 [==============================] - 3s 13ms/step - loss: 0.6192 - val_loss: 0.6179\n",
            "Epoch 57/100\n",
            "235/235 [==============================] - 3s 13ms/step - loss: 0.6171 - val_loss: 0.6157\n",
            "Epoch 58/100\n",
            "235/235 [==============================] - 4s 17ms/step - loss: 0.6150 - val_loss: 0.6136\n",
            "Epoch 59/100\n",
            "235/235 [==============================] - 3s 13ms/step - loss: 0.6129 - val_loss: 0.6115\n",
            "Epoch 60/100\n",
            "235/235 [==============================] - 3s 13ms/step - loss: 0.6108 - val_loss: 0.6093\n",
            "Epoch 61/100\n",
            "235/235 [==============================] - 3s 15ms/step - loss: 0.6086 - val_loss: 0.6071\n",
            "Epoch 62/100\n",
            "235/235 [==============================] - 4s 16ms/step - loss: 0.6065 - val_loss: 0.6049\n",
            "Epoch 63/100\n",
            "235/235 [==============================] - 3s 13ms/step - loss: 0.6043 - val_loss: 0.6027\n",
            "Epoch 64/100\n",
            "235/235 [==============================] - 3s 13ms/step - loss: 0.6021 - val_loss: 0.6005\n",
            "Epoch 65/100\n",
            "235/235 [==============================] - 4s 15ms/step - loss: 0.5999 - val_loss: 0.5983\n",
            "Epoch 66/100\n",
            "235/235 [==============================] - 4s 15ms/step - loss: 0.5976 - val_loss: 0.5960\n",
            "Epoch 67/100\n",
            "235/235 [==============================] - 3s 14ms/step - loss: 0.5954 - val_loss: 0.5938\n",
            "Epoch 68/100\n",
            "235/235 [==============================] - 3s 13ms/step - loss: 0.5932 - val_loss: 0.5915\n",
            "Epoch 69/100\n",
            "235/235 [==============================] - 4s 19ms/step - loss: 0.5909 - val_loss: 0.5892\n",
            "Epoch 70/100\n",
            "235/235 [==============================] - 3s 13ms/step - loss: 0.5886 - val_loss: 0.5869\n",
            "Epoch 71/100\n",
            "235/235 [==============================] - 3s 13ms/step - loss: 0.5863 - val_loss: 0.5846\n",
            "Epoch 72/100\n",
            "235/235 [==============================] - 3s 13ms/step - loss: 0.5840 - val_loss: 0.5823\n",
            "Epoch 73/100\n",
            "235/235 [==============================] - 4s 18ms/step - loss: 0.5817 - val_loss: 0.5800\n",
            "Epoch 74/100\n",
            "235/235 [==============================] - 3s 13ms/step - loss: 0.5794 - val_loss: 0.5776\n",
            "Epoch 75/100\n",
            "235/235 [==============================] - 3s 13ms/step - loss: 0.5771 - val_loss: 0.5753\n",
            "Epoch 76/100\n",
            "235/235 [==============================] - 3s 12ms/step - loss: 0.5748 - val_loss: 0.5729\n",
            "Epoch 77/100\n",
            "235/235 [==============================] - 4s 18ms/step - loss: 0.5724 - val_loss: 0.5706\n",
            "Epoch 78/100\n",
            "235/235 [==============================] - 3s 14ms/step - loss: 0.5701 - val_loss: 0.5682\n",
            "Epoch 79/100\n",
            "235/235 [==============================] - 3s 13ms/step - loss: 0.5677 - val_loss: 0.5658\n",
            "Epoch 80/100\n",
            "235/235 [==============================] - 3s 12ms/step - loss: 0.5653 - val_loss: 0.5634\n",
            "Epoch 81/100\n",
            "235/235 [==============================] - 4s 17ms/step - loss: 0.5629 - val_loss: 0.5610\n",
            "Epoch 82/100\n",
            "235/235 [==============================] - 4s 17ms/step - loss: 0.5605 - val_loss: 0.5586\n",
            "Epoch 83/100\n",
            "235/235 [==============================] - 3s 14ms/step - loss: 0.5582 - val_loss: 0.5562\n",
            "Epoch 84/100\n",
            "235/235 [==============================] - 4s 17ms/step - loss: 0.5558 - val_loss: 0.5538\n",
            "Epoch 85/100\n",
            "235/235 [==============================] - 3s 14ms/step - loss: 0.5534 - val_loss: 0.5514\n",
            "Epoch 86/100\n",
            "235/235 [==============================] - 3s 13ms/step - loss: 0.5510 - val_loss: 0.5490\n",
            "Epoch 87/100\n",
            "235/235 [==============================] - 3s 12ms/step - loss: 0.5486 - val_loss: 0.5466\n",
            "Epoch 88/100\n",
            "235/235 [==============================] - 4s 18ms/step - loss: 0.5462 - val_loss: 0.5441\n",
            "Epoch 89/100\n",
            "235/235 [==============================] - 3s 12ms/step - loss: 0.5437 - val_loss: 0.5417\n",
            "Epoch 90/100\n",
            "235/235 [==============================] - 3s 13ms/step - loss: 0.5413 - val_loss: 0.5393\n",
            "Epoch 91/100\n",
            "235/235 [==============================] - 3s 13ms/step - loss: 0.5389 - val_loss: 0.5369\n",
            "Epoch 92/100\n",
            "235/235 [==============================] - 4s 18ms/step - loss: 0.5365 - val_loss: 0.5345\n",
            "Epoch 93/100\n",
            "235/235 [==============================] - 3s 14ms/step - loss: 0.5341 - val_loss: 0.5321\n",
            "Epoch 94/100\n",
            "235/235 [==============================] - 3s 12ms/step - loss: 0.5317 - val_loss: 0.5297\n",
            "Epoch 95/100\n",
            "235/235 [==============================] - 3s 13ms/step - loss: 0.5294 - val_loss: 0.5273\n",
            "Epoch 96/100\n",
            "235/235 [==============================] - 4s 19ms/step - loss: 0.5270 - val_loss: 0.5249\n",
            "Epoch 97/100\n",
            "235/235 [==============================] - 3s 13ms/step - loss: 0.5246 - val_loss: 0.5225\n",
            "Epoch 98/100\n",
            "235/235 [==============================] - 3s 12ms/step - loss: 0.5222 - val_loss: 0.5201\n",
            "Epoch 99/100\n",
            "235/235 [==============================] - 4s 15ms/step - loss: 0.5199 - val_loss: 0.5178\n",
            "Epoch 100/100\n",
            "235/235 [==============================] - 4s 17ms/step - loss: 0.5175 - val_loss: 0.5154\n",
            "313/313 [==============================] - 1s 2ms/step\n"
          ]
        }
      ],
      "source": [
        "history = AutoencoderModel.fit(x_train, x_train,\n",
        "\n",
        "batch_size=256,\n",
        "epochs=100,\n",
        "shuffle=True,\n",
        "validation_data=(x_test, x_test))\n",
        "\n",
        "# Make prediction to decode the digits\n",
        "DecodedDigits = AutoencoderModel.predict(x_test)"
      ]
    },
    {
      "cell_type": "code",
      "execution_count": 7,
      "metadata": {
        "colab": {
          "base_uri": "https://localhost:8080/"
        },
        "id": "s0p57AssAMiz",
        "outputId": "196c6253-c39c-4055-bc3b-10f36ff6bf86"
      },
      "outputs": [
        {
          "output_type": "stream",
          "name": "stdout",
          "text": [
            "313/313 [==============================] - 1s 2ms/step\n"
          ]
        }
      ],
      "source": [
        "DecodedDigits = AutoencoderModel.predict(x_test)"
      ]
    },
    {
      "cell_type": "code",
      "execution_count": 8,
      "metadata": {
        "id": "M-jZAS60AQxU"
      },
      "outputs": [],
      "source": [
        "def plotmodelhistory(history):\n",
        "  plt.plot(history.history['loss'])\n",
        "  plt.plot(history.history['val_loss'])\n",
        "  plt.title('Autoencoder Model loss')\n",
        "  plt.ylabel('Loss')\n",
        "  plt.xlabel('Epoch')\n",
        "  plt.legend(['Train', 'Test'], loc='upper left')\n",
        "  plt.show()"
      ]
    },
    {
      "cell_type": "code",
      "execution_count": 9,
      "metadata": {
        "colab": {
          "base_uri": "https://localhost:8080/",
          "height": 489
        },
        "id": "_5-YaGmIAYPJ",
        "outputId": "1eb68632-3d84-4064-f7d5-04146cc6ef93"
      },
      "outputs": [
        {
          "output_type": "stream",
          "name": "stdout",
          "text": [
            "dict_keys(['loss', 'val_loss'])\n"
          ]
        },
        {
          "output_type": "display_data",
          "data": {
            "text/plain": [
              "<Figure size 640x480 with 1 Axes>"
            ],
            "image/png": "[encoded data removed]"
          },
          "metadata": {}
        }
      ],
      "source": [
        "# list all data in history\n",
        "print(history.history.keys())\n",
        "# visualization of the loss minimization during the training process\n",
        "plotmodelhistory(history)"
      ]
    },
    {
      "cell_type": "code",
      "execution_count": 10,
      "metadata": {
        "id": "t7IXQm2-Aihe"
      },
      "outputs": [],
      "source": [
        "# Acquire MNIST data\n",
        "from tensorflow.keras.datasets import mnist\n",
        "(train_images, train_labels), (test_images, test_labels) = mnist.load_data()"
      ]
    },
    {
      "cell_type": "code",
      "execution_count": 11,
      "metadata": {
        "id": "2SLQQH3TApBG"
      },
      "outputs": [],
      "source": [
        "# Reshape data for an MLP input\n",
        "import numpy as np\n",
        "train_images = np.reshape(train_images, (-1, 784))\n",
        "test_images = np.reshape(test_images, (-1, 784))"
      ]
    },
    {
      "cell_type": "code",
      "execution_count": 12,
      "metadata": {
        "colab": {
          "base_uri": "https://localhost:8080/"
        },
        "id": "r4qcfpAAArnh",
        "outputId": "9c23cda3-37d0-4af5-bf09-0496b606e040"
      },
      "outputs": [
        {
          "output_type": "stream",
          "name": "stdout",
          "text": [
            "[0.         0.         0.         0.         0.         0.\n",
            " 0.         0.         0.         0.         0.         0.\n",
            " 0.         0.         0.         0.         0.         0.\n",
            " 0.         0.         0.         0.         0.         0.\n",
            " 0.         0.         0.         0.         0.         0.\n",
            " 0.         0.         0.         0.         0.         0.\n",
            " 0.         0.         0.         0.         0.         0.\n",
            " 0.         0.         0.         0.         0.         0.\n",
            " 0.         0.         0.         0.         0.         0.\n",
            " 0.         0.         0.         0.         0.         0.\n",
            " 0.         0.         0.         0.         0.         0.\n",
            " 0.         0.         0.         0.         0.         0.\n",
            " 0.         0.         0.         0.         0.         0.\n",
            " 0.         0.         0.         0.         0.         0.\n",
            " 0.         0.         0.         0.         0.         0.\n",
            " 0.         0.         0.         0.         0.         0.\n",
            " 0.         0.         0.         0.         0.         0.\n",
            " 0.         0.         0.         0.         0.         0.\n",
            " 0.         0.         0.         0.         0.         0.\n",
            " 0.         0.         0.         0.         0.         0.\n",
            " 0.         0.         0.         0.         0.         0.\n",
            " 0.         0.         0.         0.         0.         0.\n",
            " 0.         0.         0.         0.         0.         0.\n",
            " 0.         0.         0.         0.         0.         0.\n",
            " 0.         0.         0.         0.         0.         0.\n",
            " 0.         0.         0.01176471 0.07058824 0.07058824 0.07058824\n",
            " 0.49411765 0.53333336 0.6862745  0.10196079 0.6509804  1.\n",
            " 0.96862745 0.49803922 0.         0.         0.         0.\n",
            " 0.         0.         0.         0.         0.         0.\n",
            " 0.         0.         0.11764706 0.14117648 0.36862746 0.6039216\n",
            " 0.6666667  0.99215686 0.99215686 0.99215686 0.99215686 0.99215686\n",
            " 0.88235295 0.6745098  0.99215686 0.9490196  0.7647059  0.2509804\n",
            " 0.         0.         0.         0.         0.         0.\n",
            " 0.         0.         0.         0.         0.         0.19215687\n",
            " 0.93333334 0.99215686 0.99215686 0.99215686 0.99215686 0.99215686\n",
            " 0.99215686 0.99215686 0.99215686 0.9843137  0.3647059  0.32156864\n",
            " 0.32156864 0.21960784 0.15294118 0.         0.         0.\n",
            " 0.         0.         0.         0.         0.         0.\n",
            " 0.         0.         0.         0.07058824 0.85882354 0.99215686\n",
            " 0.99215686 0.99215686 0.99215686 0.99215686 0.7764706  0.7137255\n",
            " 0.96862745 0.94509804 0.         0.         0.         0.\n",
            " 0.         0.         0.         0.         0.         0.\n",
            " 0.         0.         0.         0.         0.         0.\n",
            " 0.         0.         0.3137255  0.6117647  0.41960785 0.99215686\n",
            " 0.99215686 0.8039216  0.04313726 0.         0.16862746 0.6039216\n",
            " 0.         0.         0.         0.         0.         0.\n",
            " 0.         0.         0.         0.         0.         0.\n",
            " 0.         0.         0.         0.         0.         0.\n",
            " 0.         0.05490196 0.00392157 0.6039216  0.99215686 0.3529412\n",
            " 0.         0.         0.         0.         0.         0.\n",
            " 0.         0.         0.         0.         0.         0.\n",
            " 0.         0.         0.         0.         0.         0.\n",
            " 0.         0.         0.         0.         0.         0.\n",
            " 0.         0.54509807 0.99215686 0.74509805 0.00784314 0.\n",
            " 0.         0.         0.         0.         0.         0.\n",
            " 0.         0.         0.         0.         0.         0.\n",
            " 0.         0.         0.         0.         0.         0.\n",
            " 0.         0.         0.         0.         0.         0.04313726\n",
            " 0.74509805 0.99215686 0.27450982 0.         0.         0.\n",
            " 0.         0.         0.         0.         0.         0.\n",
            " 0.         0.         0.         0.         0.         0.\n",
            " 0.         0.         0.         0.         0.         0.\n",
            " 0.         0.         0.         0.         0.13725491 0.94509804\n",
            " 0.88235295 0.627451   0.42352942 0.00392157 0.         0.\n",
            " 0.         0.         0.         0.         0.         0.\n",
            " 0.         0.         0.         0.         0.         0.\n",
            " 0.         0.         0.         0.         0.         0.\n",
            " 0.         0.         0.         0.31764707 0.9411765  0.99215686\n",
            " 0.99215686 0.46666667 0.09803922 0.         0.         0.\n",
            " 0.         0.         0.         0.         0.         0.\n",
            " 0.         0.         0.         0.         0.         0.\n",
            " 0.         0.         0.         0.         0.         0.\n",
            " 0.         0.         0.1764706  0.7294118  0.99215686 0.99215686\n",
            " 0.5882353  0.10588235 0.         0.         0.         0.\n",
            " 0.         0.         0.         0.         0.         0.\n",
            " 0.         0.         0.         0.         0.         0.\n",
            " 0.         0.         0.         0.         0.         0.\n",
            " 0.         0.0627451  0.3647059  0.9882353  0.99215686 0.73333335\n",
            " 0.         0.         0.         0.         0.         0.\n",
            " 0.         0.         0.         0.         0.         0.\n",
            " 0.         0.         0.         0.         0.         0.\n",
            " 0.         0.         0.         0.         0.         0.\n",
            " 0.         0.9764706  0.99215686 0.9764706  0.2509804  0.\n",
            " 0.         0.         0.         0.         0.         0.\n",
            " 0.         0.         0.         0.         0.         0.\n",
            " 0.         0.         0.         0.         0.         0.\n",
            " 0.         0.         0.18039216 0.50980395 0.7176471  0.99215686\n",
            " 0.99215686 0.8117647  0.00784314 0.         0.         0.\n",
            " 0.         0.         0.         0.         0.         0.\n",
            " 0.         0.         0.         0.         0.         0.\n",
            " 0.         0.         0.         0.         0.15294118 0.5803922\n",
            " 0.8980392  0.99215686 0.99215686 0.99215686 0.98039216 0.7137255\n",
            " 0.         0.         0.         0.         0.         0.\n",
            " 0.         0.         0.         0.         0.         0.\n",
            " 0.         0.         0.         0.         0.         0.\n",
            " 0.09411765 0.44705883 0.8666667  0.99215686 0.99215686 0.99215686\n",
            " 0.99215686 0.7882353  0.30588236 0.         0.         0.\n",
            " 0.         0.         0.         0.         0.         0.\n",
            " 0.         0.         0.         0.         0.         0.\n",
            " 0.         0.         0.09019608 0.25882354 0.8352941  0.99215686\n",
            " 0.99215686 0.99215686 0.99215686 0.7764706  0.31764707 0.00784314\n",
            " 0.         0.         0.         0.         0.         0.\n",
            " 0.         0.         0.         0.         0.         0.\n",
            " 0.         0.         0.         0.         0.07058824 0.67058825\n",
            " 0.85882354 0.99215686 0.99215686 0.99215686 0.99215686 0.7647059\n",
            " 0.3137255  0.03529412 0.         0.         0.         0.\n",
            " 0.         0.         0.         0.         0.         0.\n",
            " 0.         0.         0.         0.         0.         0.\n",
            " 0.21568628 0.6745098  0.8862745  0.99215686 0.99215686 0.99215686\n",
            " 0.99215686 0.95686275 0.52156866 0.04313726 0.         0.\n",
            " 0.         0.         0.         0.         0.         0.\n",
            " 0.         0.         0.         0.         0.         0.\n",
            " 0.         0.         0.         0.         0.53333336 0.99215686\n",
            " 0.99215686 0.99215686 0.83137256 0.5294118  0.5176471  0.0627451\n",
            " 0.         0.         0.         0.         0.         0.\n",
            " 0.         0.         0.         0.         0.         0.\n",
            " 0.         0.         0.         0.         0.         0.\n",
            " 0.         0.         0.         0.         0.         0.\n",
            " 0.         0.         0.         0.         0.         0.\n",
            " 0.         0.         0.         0.         0.         0.\n",
            " 0.         0.         0.         0.         0.         0.\n",
            " 0.         0.         0.         0.         0.         0.\n",
            " 0.         0.         0.         0.         0.         0.\n",
            " 0.         0.         0.         0.         0.         0.\n",
            " 0.         0.         0.         0.         0.         0.\n",
            " 0.         0.         0.         0.         0.         0.\n",
            " 0.         0.         0.         0.         0.         0.\n",
            " 0.         0.         0.         0.         0.         0.\n",
            " 0.         0.         0.         0.         0.         0.\n",
            " 0.         0.         0.         0.         0.         0.\n",
            " 0.         0.         0.         0.        ]\n"
          ]
        }
      ],
      "source": [
        "# Normalize data\n",
        "train_images = train_images.astype('float32') / 255\n",
        "test_images = test_images.astype('float32') / 255\n",
        "print(train_images[0])"
      ]
    },
    {
      "cell_type": "code",
      "execution_count": 13,
      "metadata": {
        "id": "EABcNLZlAuPu"
      },
      "outputs": [],
      "source": [
        "from tensorflow.keras import Model, Input\n",
        "from tensorflow.keras.layers import Dense"
      ]
    },
    {
      "cell_type": "code",
      "execution_count": 14,
      "metadata": {
        "id": "sr4BbQzPAwQp"
      },
      "outputs": [],
      "source": [
        "input_dim = 28*28\n",
        "latent_vec_dim = 16\n",
        "input_layer = Input(shape=(input_dim,))"
      ]
    },
    {
      "cell_type": "code",
      "execution_count": 15,
      "metadata": {
        "colab": {
          "base_uri": "https://localhost:8080/"
        },
        "id": "IQdShQ1kA2e-",
        "outputId": "91d4d3d6-b63b-4a2b-9c4c-8cdb626f1450"
      },
      "outputs": [
        {
          "output_type": "stream",
          "name": "stdout",
          "text": [
            "Model: \"model_1\"\n",
            "_________________________________________________________________\n",
            " Layer (type)                Output Shape              Param #   \n",
            "=================================================================\n",
            " input_2 (InputLayer)        [(None, 784)]             0         \n",
            "                                                                 \n",
            " dense_2 (Dense)             (None, 16)                12560     \n",
            "                                                                 \n",
            " dense_3 (Dense)             (None, 784)               13328     \n",
            "                                                                 \n",
            "=================================================================\n",
            "Total params: 25,888\n",
            "Trainable params: 25,888\n",
            "Non-trainable params: 0\n",
            "_________________________________________________________________\n"
          ]
        }
      ],
      "source": [
        "# Define the autoencoder architecture\n",
        "# First build the encoder\n",
        "enc_layer_1 = Dense(latent_vec_dim, activation='tanh')(input_layer)\n",
        "encoder = enc_layer_1\n",
        "# Then build the decoder\n",
        "dec_layer_1 = Dense(input_dim, activation='sigmoid')(encoder)\n",
        "decoder = dec_layer_1\n",
        "# Connect both encoder and decoder\n",
        "autoencoder = Model(input_layer, decoder)\n",
        "# Latent representation (Optional)\n",
        "latent_model = Model(input_layer, encoder)\n",
        "# Get summary\n",
        "autoencoder.summary()"
      ]
    },
    {
      "cell_type": "code",
      "execution_count": 15,
      "metadata": {
        "id": "Cjzy3HovHgQ_"
      },
      "outputs": [],
      "source": []
    },
    {
      "cell_type": "code",
      "execution_count": 16,
      "metadata": {
        "id": "3yIuXf8BA65Q"
      },
      "outputs": [],
      "source": [
        "autoencoder.compile(loss='binary_crossentropy', optimizer='adam')"
      ]
    },
    {
      "cell_type": "code",
      "execution_count": 17,
      "metadata": {
        "colab": {
          "base_uri": "https://localhost:8080/"
        },
        "id": "ua_Fpar6A9DA",
        "outputId": "612c80a9-4ca9-4fa8-830b-a234cf837835"
      },
      "outputs": [
        {
          "output_type": "stream",
          "name": "stdout",
          "text": [
            "Epoch 1/70\n",
            "1875/1875 [==============================] - 7s 3ms/step - loss: 0.2831 - val_loss: 0.2633\n",
            "Epoch 2/70\n",
            "1875/1875 [==============================] - 6s 3ms/step - loss: 0.2632 - val_loss: 0.2627\n",
            "Epoch 3/70\n",
            "1875/1875 [==============================] - 6s 3ms/step - loss: 0.2630 - val_loss: 0.2622\n",
            "Epoch 4/70\n",
            "1875/1875 [==============================] - 5s 3ms/step - loss: 0.2493 - val_loss: 0.2448\n",
            "Epoch 5/70\n",
            "1875/1875 [==============================] - 6s 3ms/step - loss: 0.2333 - val_loss: 0.2222\n",
            "Epoch 6/70\n",
            "1875/1875 [==============================] - 5s 3ms/step - loss: 0.2196 - val_loss: 0.2119\n",
            "Epoch 7/70\n",
            "1875/1875 [==============================] - 6s 3ms/step - loss: 0.2071 - val_loss: 0.2042\n",
            "Epoch 8/70\n",
            "1875/1875 [==============================] - 5s 3ms/step - loss: 0.2035 - val_loss: 0.2023\n",
            "Epoch 9/70\n",
            "1875/1875 [==============================] - 6s 3ms/step - loss: 0.1984 - val_loss: 0.1922\n",
            "Epoch 10/70\n",
            "1875/1875 [==============================] - 5s 3ms/step - loss: 0.1888 - val_loss: 0.1843\n",
            "Epoch 11/70\n",
            "1875/1875 [==============================] - 6s 3ms/step - loss: 0.1825 - val_loss: 0.1777\n",
            "Epoch 12/70\n",
            "1875/1875 [==============================] - 5s 3ms/step - loss: 0.1768 - val_loss: 0.1741\n",
            "Epoch 13/70\n",
            "1875/1875 [==============================] - 6s 3ms/step - loss: 0.1729 - val_loss: 0.1680\n",
            "Epoch 14/70\n",
            "1875/1875 [==============================] - 6s 3ms/step - loss: 0.1675 - val_loss: 0.1629\n",
            "Epoch 15/70\n",
            "1875/1875 [==============================] - 5s 3ms/step - loss: 0.1628 - val_loss: 0.1600\n",
            "Epoch 16/70\n",
            "1875/1875 [==============================] - 6s 3ms/step - loss: 0.1595 - val_loss: 0.1558\n",
            "Epoch 17/70\n",
            "1875/1875 [==============================] - 5s 3ms/step - loss: 0.1565 - val_loss: 0.1543\n",
            "Epoch 18/70\n",
            "1875/1875 [==============================] - 6s 3ms/step - loss: 0.1539 - val_loss: 0.1506\n",
            "Epoch 19/70\n",
            "1875/1875 [==============================] - 5s 3ms/step - loss: 0.1500 - val_loss: 0.1468\n",
            "Epoch 20/70\n",
            "1875/1875 [==============================] - 8s 4ms/step - loss: 0.1466 - val_loss: 0.1434\n",
            "Epoch 21/70\n",
            "1875/1875 [==============================] - 6s 3ms/step - loss: 0.1433 - val_loss: 0.1406\n",
            "Epoch 22/70\n",
            "1875/1875 [==============================] - 6s 3ms/step - loss: 0.1406 - val_loss: 0.1379\n",
            "Epoch 23/70\n",
            "1875/1875 [==============================] - 6s 3ms/step - loss: 0.1377 - val_loss: 0.1350\n",
            "Epoch 24/70\n",
            "1875/1875 [==============================] - 5s 3ms/step - loss: 0.1358 - val_loss: 0.1335\n",
            "Epoch 25/70\n",
            "1875/1875 [==============================] - 7s 4ms/step - loss: 0.1346 - val_loss: 0.1328\n",
            "Epoch 26/70\n",
            "1875/1875 [==============================] - 5s 3ms/step - loss: 0.1337 - val_loss: 0.1317\n",
            "Epoch 27/70\n",
            "1875/1875 [==============================] - 6s 3ms/step - loss: 0.1332 - val_loss: 0.1315\n",
            "Epoch 28/70\n",
            "1875/1875 [==============================] - 5s 3ms/step - loss: 0.1327 - val_loss: 0.1307\n",
            "Epoch 29/70\n",
            "1875/1875 [==============================] - 7s 4ms/step - loss: 0.1323 - val_loss: 0.1302\n",
            "Epoch 30/70\n",
            "1875/1875 [==============================] - 5s 3ms/step - loss: 0.1318 - val_loss: 0.1300\n",
            "Epoch 31/70\n",
            "1875/1875 [==============================] - 6s 3ms/step - loss: 0.1314 - val_loss: 0.1301\n",
            "Epoch 32/70\n",
            "1875/1875 [==============================] - 5s 3ms/step - loss: 0.1310 - val_loss: 0.1292\n",
            "Epoch 33/70\n",
            "1875/1875 [==============================] - 6s 3ms/step - loss: 0.1306 - val_loss: 0.1285\n",
            "Epoch 34/70\n",
            "1875/1875 [==============================] - 6s 3ms/step - loss: 0.1303 - val_loss: 0.1286\n",
            "Epoch 35/70\n",
            "1875/1875 [==============================] - 6s 3ms/step - loss: 0.1300 - val_loss: 0.1280\n",
            "Epoch 36/70\n",
            "1875/1875 [==============================] - 6s 3ms/step - loss: 0.1297 - val_loss: 0.1281\n",
            "Epoch 37/70\n",
            "1875/1875 [==============================] - 5s 3ms/step - loss: 0.1295 - val_loss: 0.1281\n",
            "Epoch 38/70\n",
            "1875/1875 [==============================] - 6s 3ms/step - loss: 0.1293 - val_loss: 0.1275\n",
            "Epoch 39/70\n",
            "1875/1875 [==============================] - 5s 3ms/step - loss: 0.1292 - val_loss: 0.1273\n",
            "Epoch 40/70\n",
            "1875/1875 [==============================] - 6s 3ms/step - loss: 0.1290 - val_loss: 0.1272\n",
            "Epoch 41/70\n",
            "1875/1875 [==============================] - 7s 4ms/step - loss: 0.1288 - val_loss: 0.1277\n",
            "Epoch 42/70\n",
            "1875/1875 [==============================] - 7s 4ms/step - loss: 0.1287 - val_loss: 0.1268\n",
            "Epoch 43/70\n",
            "1875/1875 [==============================] - 5s 3ms/step - loss: 0.1286 - val_loss: 0.1267\n",
            "Epoch 44/70\n",
            "1875/1875 [==============================] - 6s 3ms/step - loss: 0.1285 - val_loss: 0.1272\n",
            "Epoch 45/70\n",
            "1875/1875 [==============================] - 5s 3ms/step - loss: 0.1284 - val_loss: 0.1270\n",
            "Epoch 46/70\n",
            "1875/1875 [==============================] - 6s 3ms/step - loss: 0.1283 - val_loss: 0.1268\n",
            "Epoch 47/70\n",
            "1875/1875 [==============================] - 5s 3ms/step - loss: 0.1282 - val_loss: 0.1267\n",
            "Epoch 48/70\n",
            "1875/1875 [==============================] - 6s 3ms/step - loss: 0.1282 - val_loss: 0.1265\n",
            "Epoch 49/70\n",
            "1875/1875 [==============================] - 5s 3ms/step - loss: 0.1281 - val_loss: 0.1264\n",
            "Epoch 50/70\n",
            "1875/1875 [==============================] - 5s 3ms/step - loss: 0.1280 - val_loss: 0.1266\n",
            "Epoch 51/70\n",
            "1875/1875 [==============================] - 6s 3ms/step - loss: 0.1280 - val_loss: 0.1266\n",
            "Epoch 52/70\n",
            "1875/1875 [==============================] - 5s 3ms/step - loss: 0.1279 - val_loss: 0.1263\n",
            "Epoch 53/70\n",
            "1875/1875 [==============================] - 7s 3ms/step - loss: 0.1278 - val_loss: 0.1264\n",
            "Epoch 54/70\n",
            "1875/1875 [==============================] - 5s 3ms/step - loss: 0.1278 - val_loss: 0.1261\n",
            "Epoch 55/70\n",
            "1875/1875 [==============================] - 6s 3ms/step - loss: 0.1277 - val_loss: 0.1262\n",
            "Epoch 56/70\n",
            "1875/1875 [==============================] - 5s 3ms/step - loss: 0.1277 - val_loss: 0.1260\n",
            "Epoch 57/70\n",
            "1875/1875 [==============================] - 7s 4ms/step - loss: 0.1276 - val_loss: 0.1259\n",
            "Epoch 58/70\n",
            "1875/1875 [==============================] - 6s 3ms/step - loss: 0.1276 - val_loss: 0.1263\n",
            "Epoch 59/70\n",
            "1875/1875 [==============================] - 6s 3ms/step - loss: 0.1275 - val_loss: 0.1260\n",
            "Epoch 60/70\n",
            "1875/1875 [==============================] - 5s 3ms/step - loss: 0.1275 - val_loss: 0.1263\n",
            "Epoch 61/70\n",
            "1875/1875 [==============================] - 6s 3ms/step - loss: 0.1274 - val_loss: 0.1263\n",
            "Epoch 62/70\n",
            "1875/1875 [==============================] - 6s 3ms/step - loss: 0.1274 - val_loss: 0.1258\n",
            "Epoch 63/70\n",
            "1875/1875 [==============================] - 5s 3ms/step - loss: 0.1273 - val_loss: 0.1257\n",
            "Epoch 64/70\n",
            "1875/1875 [==============================] - 7s 3ms/step - loss: 0.1273 - val_loss: 0.1257\n",
            "Epoch 65/70\n",
            "1875/1875 [==============================] - 5s 3ms/step - loss: 0.1273 - val_loss: 0.1257\n",
            "Epoch 66/70\n",
            "1875/1875 [==============================] - 6s 3ms/step - loss: 0.1272 - val_loss: 0.1257\n",
            "Epoch 67/70\n",
            "1875/1875 [==============================] - 6s 3ms/step - loss: 0.1272 - val_loss: 0.1254\n",
            "Epoch 68/70\n",
            "1875/1875 [==============================] - 6s 3ms/step - loss: 0.1272 - val_loss: 0.1257\n",
            "Epoch 69/70\n",
            "1875/1875 [==============================] - 5s 3ms/step - loss: 0.1271 - val_loss: 0.1253\n",
            "Epoch 70/70\n",
            "1875/1875 [==============================] - 7s 4ms/step - loss: 0.1271 - val_loss: 0.1257\n"
          ]
        }
      ],
      "source": [
        "history = autoencoder.fit(train_images, train_images, epochs=70,\n",
        "validation_data=(test_images, test_images))"
      ]
    },
    {
      "cell_type": "code",
      "execution_count": 18,
      "metadata": {
        "colab": {
          "base_uri": "https://localhost:8080/",
          "height": 498
        },
        "id": "gbN6X633BBYG",
        "outputId": "73be39f4-f991-4c33-b980-c8cf6fcf99d0"
      },
      "outputs": [
        {
          "output_type": "execute_result",
          "data": {
            "text/plain": [
              "<matplotlib.legend.Legend at 0x7f179399b400>"
            ]
          },
          "metadata": {},
          "execution_count": 18
        },
        {
          "output_type": "display_data",
          "data": {
            "text/plain": [
              "<Figure size 640x480 with 1 Axes>"
            ],
            "image/png": "[encoded data removed]"
          },
          "metadata": {}
        }
      ],
      "source": [
        "import matplotlib.pyplot as plt\n",
        "plt.plot(history.history['loss'], label='Train')\n",
        "plt.plot(history.history['val_loss'], label='Validation')\n",
        "plt.ylabel('Binary Cross Entropy Loss')\n",
        "plt.xlabel('Epoch')\n",
        "plt.title('Autoencoder Reconstruction Loss', pad=13)\n",
        "plt.legend(loc='upper right')"
      ]
    },
    {
      "cell_type": "code",
      "execution_count": 19,
      "metadata": {
        "colab": {
          "base_uri": "https://localhost:8080/",
          "height": 157
        },
        "id": "p1IxinusBERA",
        "outputId": "4afcd692-e113-431f-c3c7-4296a3f2ded5"
      },
      "outputs": [
        {
          "output_type": "display_data",
          "data": {
            "text/plain": [
              "<Figure size 900x200 with 5 Axes>"
            ],
            "image/png": "[encoded data removed]"
          },
          "metadata": {}
        }
      ],
      "source": [
        "n = 5\n",
        "plt.figure(figsize=(9, 2))\n",
        "for i in range(n):\n",
        "  ax = plt.subplot(1, n, i+1)\n",
        "  plt.imshow(test_images[i].reshape(28, 28), cmap=\"gray\")\n",
        "  ax.axis('off')\n",
        "plt.show()"
      ]
    },
    {
      "cell_type": "code",
      "execution_count": 20,
      "metadata": {
        "colab": {
          "base_uri": "https://localhost:8080/",
          "height": 174
        },
        "id": "swc8upS2BIi9",
        "outputId": "cae2bb91-9aa0-4ab1-d13d-2b101246d4b9"
      },
      "outputs": [
        {
          "output_type": "stream",
          "name": "stdout",
          "text": [
            "313/313 [==============================] - 0s 1ms/step\n"
          ]
        },
        {
          "output_type": "display_data",
          "data": {
            "text/plain": [
              "<Figure size 900x200 with 5 Axes>"
            ],
            "image/png": "[encoded data removed]"
          },
          "metadata": {}
        }
      ],
      "source": [
        "# Testing the model by reconstructing\n",
        "reconstructed_images = autoencoder.predict(test_images)\n",
        "\n",
        "n = 5\n",
        "plt.figure(figsize=(9, 2))\n",
        "for i in range(n):\n",
        "  ax = plt.subplot(1, n, i+1)\n",
        "  plt.imshow(reconstructed_images[i].reshape(28, 28), cmap=\"gray\")\n",
        "  ax.axis('off')\n",
        "plt.show()"
      ]
    },
    {
      "cell_type": "markdown",
      "metadata": {
        "id": "JQSDpXZu4HEV"
      },
      "source": [
        "STACKED ENCODER"
      ]
    },
    {
      "cell_type": "code",
      "execution_count": 21,
      "metadata": {
        "colab": {
          "base_uri": "https://localhost:8080/",
          "height": 606
        },
        "id": "lWKpzgyfJ-xZ",
        "outputId": "472e825f-286f-4111-bba2-34bdeb2a577d"
      },
      "outputs": [
        {
          "output_type": "stream",
          "name": "stdout",
          "text": [
            "Epoch 1/10\n",
            "235/235 [==============================] - 7s 26ms/step - loss: 0.1883 - val_loss: 0.1120\n",
            "Epoch 2/10\n",
            "235/235 [==============================] - 7s 29ms/step - loss: 0.1021 - val_loss: 0.0927\n",
            "Epoch 3/10\n",
            "235/235 [==============================] - 6s 27ms/step - loss: 0.0897 - val_loss: 0.0851\n",
            "Epoch 4/10\n",
            "235/235 [==============================] - 7s 29ms/step - loss: 0.0840 - val_loss: 0.0822\n",
            "Epoch 5/10\n",
            "235/235 [==============================] - 6s 26ms/step - loss: 0.0808 - val_loss: 0.0793\n",
            "Epoch 6/10\n",
            "235/235 [==============================] - 7s 30ms/step - loss: 0.0787 - val_loss: 0.0771\n",
            "Epoch 7/10\n",
            "235/235 [==============================] - 6s 25ms/step - loss: 0.0771 - val_loss: 0.0756\n",
            "Epoch 8/10\n",
            "235/235 [==============================] - 7s 31ms/step - loss: 0.0758 - val_loss: 0.0747\n",
            "Epoch 9/10\n",
            "235/235 [==============================] - 6s 24ms/step - loss: 0.0747 - val_loss: 0.0739\n",
            "Epoch 10/10\n",
            "235/235 [==============================] - 7s 31ms/step - loss: 0.0738 - val_loss: 0.0730\n",
            "313/313 [==============================] - 1s 3ms/step\n"
          ]
        },
        {
          "output_type": "display_data",
          "data": {
            "text/plain": [
              "<Figure size 2000x400 with 20 Axes>"
            ],
            "image/png": "[encoded data removed]"
          },
          "metadata": {}
        }
      ],
      "source": [
        "import numpy as np\n",
        "import tensorflow as tf\n",
        "from tensorflow import keras\n",
        "from tensorflow.keras.datasets import mnist\n",
        "from tensorflow.keras.models import Sequential\n",
        "from tensorflow.keras.layers import Dense\n",
        "\n",
        "# Load the MNIST dataset\n",
        "(x_train, _), (x_test, _) = mnist.load_data()\n",
        "\n",
        "# Normalize and flatten the input data\n",
        "x_train = x_train.astype('float32') / 255.0\n",
        "x_test = x_test.astype('float32') / 255.0\n",
        "x_train = x_train.reshape((-1, 784))\n",
        "x_test = x_test.reshape((-1, 784))\n",
        "\n",
        "# Define the stacked encoder autoencoder architecture\n",
        "model = Sequential()\n",
        "\n",
        "# Encoder layers\n",
        "model.add(Dense(units=256, activation='relu', input_shape=(784,)))\n",
        "model.add(Dense(units=128, activation='relu'))\n",
        "\n",
        "# Decoder layers\n",
        "model.add(Dense(units=256, activation='relu'))\n",
        "model.add(Dense(units=784, activation='sigmoid'))\n",
        "\n",
        "# Compile the model\n",
        "model.compile(optimizer='adam', loss='binary_crossentropy')\n",
        "\n",
        "# Train the autoencoder\n",
        "model.fit(x_train, x_train, epochs=10, batch_size=256, validation_data=(x_test, x_test))\n",
        "\n",
        "# Generate reconstructed images\n",
        "reconstructed_images = model.predict(x_test)\n",
        "\n",
        "# Display original and reconstructed images\n",
        "import matplotlib.pyplot as plt\n",
        "\n",
        "n = 10  # Number of images to display\n",
        "plt.figure(figsize=(20, 4))\n",
        "for i in range(n):\n",
        "    # Display original images\n",
        "    ax = plt.subplot(2, n, i + 1)\n",
        "    plt.imshow(x_test[i].reshape(28, 28))\n",
        "    plt.gray()\n",
        "    ax.get_xaxis().set_visible(False)\n",
        "    ax.get_yaxis().set_visible(False)\n",
        "\n",
        "    # Display reconstructed images\n",
        "    ax = plt.subplot(2, n, i + 1 + n)\n",
        "    plt.imshow(reconstructed_images[i].reshape(28, 28))\n",
        "    plt.gray()\n",
        "    ax.get_xaxis().set_visible(False)\n",
        "    ax.get_yaxis().set_visible(False)\n",
        "plt.show()\n"
      ]
    }
  ],
  "metadata": {
    "colab": {
      "provenance": []
    },
    "kernelspec": {
      "display_name": "Python 3 (ipykernel)",
      "language": "python",
      "name": "python3"
    },
    "language_info": {
      "codemirror_mode": {
        "name": "ipython",
        "version": 3
      },
      "file_extension": ".py",
      "mimetype": "text/x-python",
      "name": "python",
      "nbconvert_exporter": "python",
      "pygments_lexer": "ipython3",
      "version": "3.9.12"
    }
  },
  "nbformat": 4,
  "nbformat_minor": 0
}