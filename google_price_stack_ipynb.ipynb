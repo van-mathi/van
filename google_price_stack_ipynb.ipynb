{
  "nbformat": 4,
  "nbformat_minor": 0,
  "metadata": {
    "colab": {
      "provenance": []
    },
    "kernelspec": {
      "name": "python3",
      "display_name": "Python 3"
    },
    "language_info": {
      "name": "python"
    }
  },
  "cells": [
    {
      "cell_type": "code",
      "execution_count": null,
      "metadata": {
        "id": "WxPbNrXiTLgf"
      },
      "outputs": [],
      "source": [
        "#importing the libraries\n",
        "import numpy as np #alloq to make arrays\n",
        "import matplotlib.pyplot as plt\n",
        "#visualize results on charts\n",
        "import pandas as pd # import dataset and manage easily\n"
      ]
    },
    {
      "cell_type": "code",
      "source": [
        "#importing test set later on iporting the training set-only importing training set,\n",
        "#data preprocessig"
      ],
      "metadata": {
        "id": "DEGGhkf-Tln_"
      },
      "execution_count": null,
      "outputs": []
    },
    {
      "cell_type": "code",
      "source": [
        "#importing training dataset\n",
        "dataset_train=pd.read_csv(\"/content/Google_Stock_Price_Train.csv\")\n",
        "dataset_train"
      ],
      "metadata": {
        "colab": {
          "base_uri": "https://localhost:8080/",
          "height": 423
        },
        "id": "j-AkHTf5T4Wj",
        "outputId": "e730b5ce-d41c-4724-bdda-08631f8ca2c2"
      },
      "execution_count": null,
      "outputs": [
        {
          "output_type": "execute_result",
          "data": {
            "text/plain": [
              "            Date    Open    High     Low   Close      Volume\n",
              "0       1/3/2012  325.25  332.83  324.97  663.59   7,380,500\n",
              "1       1/4/2012  331.27  333.87  329.08  666.45   5,749,400\n",
              "2       1/5/2012  329.83  330.75  326.89  657.21   6,590,300\n",
              "3       1/6/2012  328.34  328.77  323.68  648.24   5,405,900\n",
              "4       1/9/2012  322.04  322.29  309.46  620.76  11,688,800\n",
              "...          ...     ...     ...     ...     ...         ...\n",
              "1253  12/23/2016  790.90  792.74  787.28  789.91     623,400\n",
              "1254  12/27/2016  790.68  797.86  787.66  791.55     789,100\n",
              "1255  12/28/2016  793.70  794.23  783.20  785.05   1,153,800\n",
              "1256  12/29/2016  783.33  785.93  778.92  782.79     744,300\n",
              "1257  12/30/2016  782.75  782.78  770.41  771.82   1,770,000\n",
              "\n",
              "[1258 rows x 6 columns]"
            ],
            "text/html": [
              "\n",
              "  <div id=\"df-e05db728-98cf-40d3-b576-c64c5b9eb802\">\n",
              "    <div class=\"colab-df-container\">\n",
              "      <div>\n",
              "<style scoped>\n",
              "    .dataframe tbody tr th:only-of-type {\n",
              "        vertical-align: middle;\n",
              "    }\n",
              "\n",
              "    .dataframe tbody tr th {\n",
              "        vertical-align: top;\n",
              "    }\n",
              "\n",
              "    .dataframe thead th {\n",
              "        text-align: right;\n",
              "    }\n",
              "</style>\n",
              "<table border=\"1\" class=\"dataframe\">\n",
              "  <thead>\n",
              "    <tr style=\"text-align: right;\">\n",
              "      <th></th>\n",
              "      <th>Date</th>\n",
              "      <th>Open</th>\n",
              "      <th>High</th>\n",
              "      <th>Low</th>\n",
              "      <th>Close</th>\n",
              "      <th>Volume</th>\n",
              "    </tr>\n",
              "  </thead>\n",
              "  <tbody>\n",
              "    <tr>\n",
              "      <th>0</th>\n",
              "      <td>1/3/2012</td>\n",
              "      <td>325.25</td>\n",
              "      <td>332.83</td>\n",
              "      <td>324.97</td>\n",
              "      <td>663.59</td>\n",
              "      <td>7,380,500</td>\n",
              "    </tr>\n",
              "    <tr>\n",
              "      <th>1</th>\n",
              "      <td>1/4/2012</td>\n",
              "      <td>331.27</td>\n",
              "      <td>333.87</td>\n",
              "      <td>329.08</td>\n",
              "      <td>666.45</td>\n",
              "      <td>5,749,400</td>\n",
              "    </tr>\n",
              "    <tr>\n",
              "      <th>2</th>\n",
              "      <td>1/5/2012</td>\n",
              "      <td>329.83</td>\n",
              "      <td>330.75</td>\n",
              "      <td>326.89</td>\n",
              "      <td>657.21</td>\n",
              "      <td>6,590,300</td>\n",
              "    </tr>\n",
              "    <tr>\n",
              "      <th>3</th>\n",
              "      <td>1/6/2012</td>\n",
              "      <td>328.34</td>\n",
              "      <td>328.77</td>\n",
              "      <td>323.68</td>\n",
              "      <td>648.24</td>\n",
              "      <td>5,405,900</td>\n",
              "    </tr>\n",
              "    <tr>\n",
              "      <th>4</th>\n",
              "      <td>1/9/2012</td>\n",
              "      <td>322.04</td>\n",
              "      <td>322.29</td>\n",
              "      <td>309.46</td>\n",
              "      <td>620.76</td>\n",
              "      <td>11,688,800</td>\n",
              "    </tr>\n",
              "    <tr>\n",
              "      <th>...</th>\n",
              "      <td>...</td>\n",
              "      <td>...</td>\n",
              "      <td>...</td>\n",
              "      <td>...</td>\n",
              "      <td>...</td>\n",
              "      <td>...</td>\n",
              "    </tr>\n",
              "    <tr>\n",
              "      <th>1253</th>\n",
              "      <td>12/23/2016</td>\n",
              "      <td>790.90</td>\n",
              "      <td>792.74</td>\n",
              "      <td>787.28</td>\n",
              "      <td>789.91</td>\n",
              "      <td>623,400</td>\n",
              "    </tr>\n",
              "    <tr>\n",
              "      <th>1254</th>\n",
              "      <td>12/27/2016</td>\n",
              "      <td>790.68</td>\n",
              "      <td>797.86</td>\n",
              "      <td>787.66</td>\n",
              "      <td>791.55</td>\n",
              "      <td>789,100</td>\n",
              "    </tr>\n",
              "    <tr>\n",
              "      <th>1255</th>\n",
              "      <td>12/28/2016</td>\n",
              "      <td>793.70</td>\n",
              "      <td>794.23</td>\n",
              "      <td>783.20</td>\n",
              "      <td>785.05</td>\n",
              "      <td>1,153,800</td>\n",
              "    </tr>\n",
              "    <tr>\n",
              "      <th>1256</th>\n",
              "      <td>12/29/2016</td>\n",
              "      <td>783.33</td>\n",
              "      <td>785.93</td>\n",
              "      <td>778.92</td>\n",
              "      <td>782.79</td>\n",
              "      <td>744,300</td>\n",
              "    </tr>\n",
              "    <tr>\n",
              "      <th>1257</th>\n",
              "      <td>12/30/2016</td>\n",
              "      <td>782.75</td>\n",
              "      <td>782.78</td>\n",
              "      <td>770.41</td>\n",
              "      <td>771.82</td>\n",
              "      <td>1,770,000</td>\n",
              "    </tr>\n",
              "  </tbody>\n",
              "</table>\n",
              "<p>1258 rows × 6 columns</p>\n",
              "</div>\n",
              "      <button class=\"colab-df-convert\" onclick=\"convertToInteractive('df-e05db728-98cf-40d3-b576-c64c5b9eb802')\"\n",
              "              title=\"Convert this dataframe to an interactive table.\"\n",
              "              style=\"display:none;\">\n",
              "        \n",
              "  <svg xmlns=\"http://www.w3.org/2000/svg\" height=\"24px\"viewBox=\"0 0 24 24\"\n",
              "       width=\"24px\">\n",
              "    <path d=\"M0 0h24v24H0V0z\" fill=\"none\"/>\n",
              "    <path d=\"M18.56 5.44l.94 2.06.94-2.06 2.06-.94-2.06-.94-.94-2.06-.94 2.06-2.06.94zm-11 1L8.5 8.5l.94-2.06 2.06-.94-2.06-.94L8.5 2.5l-.94 2.06-2.06.94zm10 10l.94 2.06.94-2.06 2.06-.94-2.06-.94-.94-2.06-.94 2.06-2.06.94z\"/><path d=\"M17.41 7.96l-1.37-1.37c-.4-.4-.92-.59-1.43-.59-.52 0-1.04.2-1.43.59L10.3 9.45l-7.72 7.72c-.78.78-.78 2.05 0 2.83L4 21.41c.39.39.9.59 1.41.59.51 0 1.02-.2 1.41-.59l7.78-7.78 2.81-2.81c.8-.78.8-2.07 0-2.86zM5.41 20L4 18.59l7.72-7.72 1.47 1.35L5.41 20z\"/>\n",
              "  </svg>\n",
              "      </button>\n",
              "      \n",
              "  <style>\n",
              "    .colab-df-container {\n",
              "      display:flex;\n",
              "      flex-wrap:wrap;\n",
              "      gap: 12px;\n",
              "    }\n",
              "\n",
              "    .colab-df-convert {\n",
              "      background-color: #E8F0FE;\n",
              "      border: none;\n",
              "      border-radius: 50%;\n",
              "      cursor: pointer;\n",
              "      display: none;\n",
              "      fill: #1967D2;\n",
              "      height: 32px;\n",
              "      padding: 0 0 0 0;\n",
              "      width: 32px;\n",
              "    }\n",
              "\n",
              "    .colab-df-convert:hover {\n",
              "      background-color: #E2EBFA;\n",
              "      box-shadow: 0px 1px 2px rgba(60, 64, 67, 0.3), 0px 1px 3px 1px rgba(60, 64, 67, 0.15);\n",
              "      fill: #174EA6;\n",
              "    }\n",
              "\n",
              "    [theme=dark] .colab-df-convert {\n",
              "      background-color: #3B4455;\n",
              "      fill: #D2E3FC;\n",
              "    }\n",
              "\n",
              "    [theme=dark] .colab-df-convert:hover {\n",
              "      background-color: #434B5C;\n",
              "      box-shadow: 0px 1px 3px 1px rgba(0, 0, 0, 0.15);\n",
              "      filter: drop-shadow(0px 1px 2px rgba(0, 0, 0, 0.3));\n",
              "      fill: #FFFFFF;\n",
              "    }\n",
              "  </style>\n",
              "\n",
              "      <script>\n",
              "        const buttonEl =\n",
              "          document.querySelector('#df-e05db728-98cf-40d3-b576-c64c5b9eb802 button.colab-df-convert');\n",
              "        buttonEl.style.display =\n",
              "          google.colab.kernel.accessAllowed ? 'block' : 'none';\n",
              "\n",
              "        async function convertToInteractive(key) {\n",
              "          const element = document.querySelector('#df-e05db728-98cf-40d3-b576-c64c5b9eb802');\n",
              "          const dataTable =\n",
              "            await google.colab.kernel.invokeFunction('convertToInteractive',\n",
              "                                                     [key], {});\n",
              "          if (!dataTable) return;\n",
              "\n",
              "          const docLinkHtml = 'Like what you see? Visit the ' +\n",
              "            '<a target=\"_blank\" href=https://colab.research.google.com/notebooks/data_table.ipynb>data table notebook</a>'\n",
              "            + ' to learn more about interactive tables.';\n",
              "          element.innerHTML = '';\n",
              "          dataTable['output_type'] = 'display_data';\n",
              "          await google.colab.output.renderOutput(dataTable, element);\n",
              "          const docLink = document.createElement('div');\n",
              "          docLink.innerHTML = docLinkHtml;\n",
              "          element.appendChild(docLink);\n",
              "        }\n",
              "      </script>\n",
              "    </div>\n",
              "  </div>\n",
              "  "
            ]
          },
          "metadata": {},
          "execution_count": 13
        }
      ]
    },
    {
      "cell_type": "code",
      "source": [
        "training_set=dataset_train.iloc[:,1:2].values\n",
        "training_set\n",
        "\n",
        "#need to make into numpy arrays because only numpy arrays can be input values in keras"
      ],
      "metadata": {
        "colab": {
          "base_uri": "https://localhost:8080/"
        },
        "id": "xuf2DZG5TlyH",
        "outputId": "9a5c96fd-26b0-4c71-ac2f-13033f9758b2"
      },
      "execution_count": null,
      "outputs": [
        {
          "output_type": "execute_result",
          "data": {
            "text/plain": [
              "array([[325.25],\n",
              "       [331.27],\n",
              "       [329.83],\n",
              "       ...,\n",
              "       [793.7 ],\n",
              "       [783.33],\n",
              "       [782.75]])"
            ]
          },
          "metadata": {},
          "execution_count": 14
        }
      ]
    },
    {
      "cell_type": "code",
      "source": [
        "#feature scaling\n",
        "from sklearn.preprocessing import MinMaxScaler\n",
        "sc=MinMaxScaler(feature_range=(0,1))\n",
        "training_set_scaled=sc.fit_transform(training_set)\n"
      ],
      "metadata": {
        "id": "K8F8o1iHTl1m"
      },
      "execution_count": null,
      "outputs": []
    },
    {
      "cell_type": "code",
      "source": [
        "#creating a data structure with 60 timestepd and 1 output\n",
        "X_train=[]\n",
        "y_train=[]\n",
        "for i in range(60,1258):\n",
        "  X_train.append(training_set_scaled[i-60:i,0])\n",
        "  y_train.append(training_set_scaled[i,0])\n",
        "X_train,y_train=np.array(X_train),np.array(y_train)\n"
      ],
      "metadata": {
        "id": "mc-D_MVNXwkn"
      },
      "execution_count": null,
      "outputs": []
    },
    {
      "cell_type": "code",
      "source": [
        "#reshaping  to add dimension in numpy array\n",
        "X_train=np.reshape(X_train,(X_train.shape[0],X_train.shape[1],1))"
      ],
      "metadata": {
        "id": "VHZUK2ZqY8CE"
      },
      "execution_count": null,
      "outputs": []
    },
    {
      "cell_type": "code",
      "source": [
        "#building the RNN stacked lstm with dropout regulization to prevent overfitting"
      ],
      "metadata": {
        "id": "Mq04kUkjFtYs"
      },
      "execution_count": null,
      "outputs": []
    },
    {
      "cell_type": "code",
      "source": [
        "#importing the kears libraries and packages\n",
        "from keras.models import Sequential\n",
        "from keras.layers import Dense\n",
        "from keras.layers import LSTM\n",
        "from keras.layers import Dropout"
      ],
      "metadata": {
        "id": "fG3rSvrFFw0-"
      },
      "execution_count": null,
      "outputs": []
    },
    {
      "cell_type": "code",
      "source": [
        "#INITIALIZING THE RNN\n",
        "regressor=Sequential() #reps sequence of layers,predicting continuos values(so it is a regression)"
      ],
      "metadata": {
        "id": "E30pWZT8Goew"
      },
      "execution_count": null,
      "outputs": []
    },
    {
      "cell_type": "code",
      "source": [
        "from keras.layers import Dense,SimpleRNN\n",
        "#adding the first LSTM and some dropout regulisation\n",
        "#dropout to prevent overfitting\n",
        "regressor.add(SimpleRNN(units=50,return_sequences=True,input_shape=(X_train.shape[1],1)))\n",
        "regressor.add(Dropout(0.2))\n",
        "from keras.optimizers import RMSprop\n",
        "from keras.callbacks import Callback\n",
        "regressor.add(SimpleRNN(units=50,return_sequences=False,input_shape=(X_train.shape[1],1)))\n",
        "regressor.add(Dense(32,activation=\"relu\"))\n",
        "regressor.add(Dense(1))\n",
        "regressor.compile(loss='mean_squared_error',optimizer=RMSprop(),metrics=['mse'])"
      ],
      "metadata": {
        "id": "Q-TBHvwnG5hM"
      },
      "execution_count": null,
      "outputs": []
    },
    {
      "cell_type": "code",
      "source": [
        "#fitting the RNN to the training set\n",
        "regressor.fit(X_train,y_train,epochs=20,batch_size=32)"
      ],
      "metadata": {
        "colab": {
          "base_uri": "https://localhost:8080/"
        },
        "id": "CC1cVPeOJ_JX",
        "outputId": "c5f7ab24-c356-40ae-b758-500d3df71bc0"
      },
      "execution_count": null,
      "outputs": [
        {
          "output_type": "stream",
          "name": "stdout",
          "text": [
            "Epoch 1/20\n",
            "38/38 [==============================] - 4s 42ms/step - loss: 0.0440 - mse: 0.0440\n",
            "Epoch 2/20\n",
            "38/38 [==============================] - 1s 30ms/step - loss: 0.0177 - mse: 0.0177\n",
            "Epoch 3/20\n",
            "38/38 [==============================] - 1s 31ms/step - loss: 0.0097 - mse: 0.0097\n",
            "Epoch 4/20\n",
            "38/38 [==============================] - 1s 30ms/step - loss: 0.0075 - mse: 0.0075\n",
            "Epoch 5/20\n",
            "38/38 [==============================] - 1s 39ms/step - loss: 0.0071 - mse: 0.0071\n",
            "Epoch 6/20\n",
            "38/38 [==============================] - 1s 35ms/step - loss: 0.0054 - mse: 0.0054\n",
            "Epoch 7/20\n",
            "38/38 [==============================] - 1s 31ms/step - loss: 0.0052 - mse: 0.0052\n",
            "Epoch 8/20\n",
            "38/38 [==============================] - 1s 30ms/step - loss: 0.0036 - mse: 0.0036\n",
            "Epoch 9/20\n",
            "38/38 [==============================] - 1s 38ms/step - loss: 0.0036 - mse: 0.0036\n",
            "Epoch 10/20\n",
            "38/38 [==============================] - 2s 55ms/step - loss: 0.0030 - mse: 0.0030\n",
            "Epoch 11/20\n",
            "38/38 [==============================] - 1s 37ms/step - loss: 0.0034 - mse: 0.0034\n",
            "Epoch 12/20\n",
            "38/38 [==============================] - 1s 31ms/step - loss: 0.0032 - mse: 0.0032\n",
            "Epoch 13/20\n",
            "38/38 [==============================] - 1s 30ms/step - loss: 0.0025 - mse: 0.0025\n",
            "Epoch 14/20\n",
            "38/38 [==============================] - 1s 30ms/step - loss: 0.0029 - mse: 0.0029\n",
            "Epoch 15/20\n",
            "38/38 [==============================] - 1s 30ms/step - loss: 0.0024 - mse: 0.0024\n",
            "Epoch 16/20\n",
            "38/38 [==============================] - 1s 30ms/step - loss: 0.0021 - mse: 0.0021\n",
            "Epoch 17/20\n",
            "38/38 [==============================] - 1s 30ms/step - loss: 0.0020 - mse: 0.0020\n",
            "Epoch 18/20\n",
            "38/38 [==============================] - 1s 31ms/step - loss: 0.0022 - mse: 0.0022\n",
            "Epoch 19/20\n",
            "38/38 [==============================] - 1s 34ms/step - loss: 0.0021 - mse: 0.0021\n",
            "Epoch 20/20\n",
            "38/38 [==============================] - 2s 55ms/step - loss: 0.0019 - mse: 0.0019\n"
          ]
        },
        {
          "output_type": "execute_result",
          "data": {
            "text/plain": [
              "<keras.callbacks.History at 0x7fd5dbf4e7a0>"
            ]
          },
          "metadata": {},
          "execution_count": 23
        }
      ]
    },
    {
      "cell_type": "code",
      "source": [
        "#prediction and visualization\n",
        "#getting the real stock price of 2018\n",
        "dataset_test=pd.read_csv(\"/content/Google_Stock_Price_Train.csv\")\n",
        "real_stock_price=dataset_test.iloc[:,1:2].values\n"
      ],
      "metadata": {
        "id": "6MpfrCbbLDIq"
      },
      "execution_count": null,
      "outputs": []
    },
    {
      "cell_type": "code",
      "source": [
        "#getting the predicted stock price of 2018\n",
        "dataset_total=pd.concat((dataset_train['Open'],dataset_test['Open']),axis=0)\n",
        "inputs=dataset_total[len(dataset_total)-len(dataset_test)-60:].values\n",
        "inputs=inputs.reshape(-1,1)\n",
        "inputs=sc.transform(inputs)\n",
        "X_test=[]\n",
        "for i in range(60,80):\n",
        "  X_test.append(inputs[i-60:i,0])\n",
        "X_test=np.array(X_test)\n",
        "X_test=np.reshape(X_test,(X_test.shape[0],X_test.shape[1],1))\n",
        "predicted_stock_price=regressor.predict(X_test)\n",
        "predicted_stock_price=sc.inverse_transform(predicted_stock_price)\n"
      ],
      "metadata": {
        "colab": {
          "base_uri": "https://localhost:8080/"
        },
        "id": "ccnZuPkNMNZI",
        "outputId": "412a20c2-109d-4d29-8750-cab8cf600a1a"
      },
      "execution_count": null,
      "outputs": [
        {
          "output_type": "stream",
          "name": "stdout",
          "text": [
            "1/1 [==============================] - 0s 475ms/step\n"
          ]
        }
      ]
    },
    {
      "cell_type": "code",
      "source": [
        "#visualising the results\n",
        "plt.plot(real_stock_price,color='red',label='Real Google Stock Price')\n",
        "plt.plot(predicted_stock_price,color='blue',label='Predicted Google Stock Price')\n",
        "plt.title('Google Stock Price Prediction')\n",
        "plt.xlabel('Time')\n",
        "plt.ylabel('Google Stock Price')\n",
        "plt.legend()\n",
        "plt.show()"
      ],
      "metadata": {
        "colab": {
          "base_uri": "https://localhost:8080/",
          "height": 472
        },
        "id": "lWvQ3NmnOFpr",
        "outputId": "abb2e2f3-c81a-44a9-efe9-2246a7f833d0"
      },
      "execution_count": null,
      "outputs": [
        {
          "output_type": "display_data",
          "data": {
            "text/plain": [
              "<Figure size 640x480 with 1 Axes>"
            ],
            "image/png": "[encoded data removed]"
          },
          "metadata": {}
        }
      ]
    },
    {
      "cell_type": "code",
      "source": [
        "#LSTM\n",
        "from keras.layers import LSTM\n",
        "from keras.layers import Dense, Activation, SimpleRNN\n",
        "\n"
      ],
      "metadata": {
        "id": "wDjcMrX1SL8K"
      },
      "execution_count": null,
      "outputs": []
    },
    {
      "cell_type": "code",
      "source": [
        "from keras.layers import Input"
      ],
      "metadata": {
        "id": "d8ujgQxgQ-JI"
      },
      "execution_count": null,
      "outputs": []
    },
    {
      "cell_type": "code",
      "source": [
        "model1= Sequential()\n",
        "model1.add(LSTM(units=10, input_shape=(X_train.shape[1],1)))\n",
        "model1.add(Dense(1))\n",
        "model1.add(Activation('softmax'))"
      ],
      "metadata": {
        "id": "D5AmTh5yMcoW"
      },
      "execution_count": null,
      "outputs": []
    },
    {
      "cell_type": "code",
      "source": [
        "model1.summary()"
      ],
      "metadata": {
        "colab": {
          "base_uri": "https://localhost:8080/"
        },
        "id": "le77_jyHNqQ9",
        "outputId": "8e11a47b-96b2-4adf-c834-6d8de880b17e"
      },
      "execution_count": null,
      "outputs": [
        {
          "output_type": "stream",
          "name": "stdout",
          "text": [
            "Model: \"sequential_5\"\n",
            "_________________________________________________________________\n",
            " Layer (type)                Output Shape              Param #   \n",
            "=================================================================\n",
            " lstm_4 (LSTM)               (None, 10)                480       \n",
            "                                                                 \n",
            " dense_5 (Dense)             (None, 1)                 11        \n",
            "                                                                 \n",
            " activation_1 (Activation)   (None, 1)                 0         \n",
            "                                                                 \n",
            "=================================================================\n",
            "Total params: 491\n",
            "Trainable params: 491\n",
            "Non-trainable params: 0\n",
            "_________________________________________________________________\n"
          ]
        }
      ]
    },
    {
      "cell_type": "code",
      "source": [
        "model1.compile(optimizer='adam',loss='mean_squared_error',metrics=['mse'])"
      ],
      "metadata": {
        "id": "lSQgFxbuNq1C"
      },
      "execution_count": null,
      "outputs": []
    },
    {
      "cell_type": "code",
      "source": [
        "model1.fit(X_train, y_train, epochs=10)"
      ],
      "metadata": {
        "colab": {
          "base_uri": "https://localhost:8080/"
        },
        "id": "mC-fHMCAOAbF",
        "outputId": "13470e6c-f3ce-49b6-908e-422aa462f87f"
      },
      "execution_count": null,
      "outputs": [
        {
          "output_type": "stream",
          "name": "stdout",
          "text": [
            "Epoch 1/10\n",
            "38/38 [==============================] - 5s 27ms/step - loss: 0.3296 - mse: 0.3296\n",
            "Epoch 2/10\n",
            "38/38 [==============================] - 1s 26ms/step - loss: 0.3296 - mse: 0.3296\n",
            "Epoch 3/10\n",
            "38/38 [==============================] - 1s 27ms/step - loss: 0.3296 - mse: 0.3296\n",
            "Epoch 4/10\n",
            "38/38 [==============================] - 1s 27ms/step - loss: 0.3296 - mse: 0.3296\n",
            "Epoch 5/10\n",
            "38/38 [==============================] - 1s 26ms/step - loss: 0.3296 - mse: 0.3296\n",
            "Epoch 6/10\n",
            "38/38 [==============================] - 1s 26ms/step - loss: 0.3296 - mse: 0.3296\n",
            "Epoch 7/10\n",
            "38/38 [==============================] - 1s 24ms/step - loss: 0.3296 - mse: 0.3296\n",
            "Epoch 8/10\n",
            "38/38 [==============================] - 1s 38ms/step - loss: 0.3296 - mse: 0.3296\n",
            "Epoch 9/10\n",
            "38/38 [==============================] - 2s 57ms/step - loss: 0.3296 - mse: 0.3296\n",
            "Epoch 10/10\n",
            "38/38 [==============================] - 1s 25ms/step - loss: 0.3296 - mse: 0.3296\n"
          ]
        },
        {
          "output_type": "execute_result",
          "data": {
            "text/plain": [
              "<keras.callbacks.History at 0x7fd5cbe6ff70>"
            ]
          },
          "metadata": {},
          "execution_count": 37
        }
      ]
    },
    {
      "cell_type": "markdown",
      "source": [
        "#stacked LSTM"
      ],
      "metadata": {
        "id": "aiSBSFHAOUyE"
      }
    },
    {
      "cell_type": "code",
      "source": [
        "time_steps=60\n",
        "model2=Sequential()\n",
        "model2.add(Input(shape=(time_steps,1)))\n",
        "model2.add(LSTM(48,return_sequences=True))\n",
        "model2.add(Dropout(0.4))\n",
        "model2.add(LSTM(48,return_sequences=True))\n",
        "model2.add(Dropout(0.2))\n",
        "model2.add(LSTM(48))\n",
        "model2.add(Dropout(0.2))\n",
        "model2.add(Dense(1,activation='relu'))\n",
        "model2.compile(loss='mean_squared_error',optimizer='adam',metrics=['mean_squared_error'])"
      ],
      "metadata": {
        "id": "GIDJRn4ZOen1"
      },
      "execution_count": null,
      "outputs": []
    },
    {
      "cell_type": "code",
      "source": [
        "model2.summary()"
      ],
      "metadata": {
        "colab": {
          "base_uri": "https://localhost:8080/"
        },
        "id": "LzSXU7hWRIww",
        "outputId": "09fb925b-ef0e-4aa4-e7b8-28e9c24d2a5f"
      },
      "execution_count": null,
      "outputs": [
        {
          "output_type": "stream",
          "name": "stdout",
          "text": [
            "Model: \"sequential_9\"\n",
            "_________________________________________________________________\n",
            " Layer (type)                Output Shape              Param #   \n",
            "=================================================================\n",
            " lstm_11 (LSTM)              (None, 60, 48)            9600      \n",
            "                                                                 \n",
            " dropout_7 (Dropout)         (None, 60, 48)            0         \n",
            "                                                                 \n",
            " lstm_12 (LSTM)              (None, 60, 48)            18624     \n",
            "                                                                 \n",
            " dropout_8 (Dropout)         (None, 60, 48)            0         \n",
            "                                                                 \n",
            " lstm_13 (LSTM)              (None, 48)                18624     \n",
            "                                                                 \n",
            " dropout_9 (Dropout)         (None, 48)                0         \n",
            "                                                                 \n",
            " dense_8 (Dense)             (None, 1)                 49        \n",
            "                                                                 \n",
            "=================================================================\n",
            "Total params: 46,897\n",
            "Trainable params: 46,897\n",
            "Non-trainable params: 0\n",
            "_________________________________________________________________\n"
          ]
        }
      ]
    },
    {
      "cell_type": "code",
      "source": [
        "model2.compile(optimizer='adam',loss='mean_squared_error',metrics=['mse'])"
      ],
      "metadata": {
        "id": "KaPo83vkRSVJ"
      },
      "execution_count": null,
      "outputs": []
    },
    {
      "cell_type": "code",
      "source": [
        "X_train.shape"
      ],
      "metadata": {
        "colab": {
          "base_uri": "https://localhost:8080/"
        },
        "id": "I1lFJOdkTyVr",
        "outputId": "7dc1ec3e-5712-4152-cf98-d5da84c5f79d"
      },
      "execution_count": null,
      "outputs": [
        {
          "output_type": "execute_result",
          "data": {
            "text/plain": [
              "(1198, 60, 1)"
            ]
          },
          "metadata": {},
          "execution_count": 65
        }
      ]
    },
    {
      "cell_type": "code",
      "source": [
        "model2.fit(X_train, y_train, epochs=10)"
      ],
      "metadata": {
        "colab": {
          "base_uri": "https://localhost:8080/"
        },
        "id": "4n3n2FLtRnUa",
        "outputId": "fa029e3b-6c95-48f5-96f5-ffe4b485c1ee"
      },
      "execution_count": null,
      "outputs": [
        {
          "output_type": "stream",
          "name": "stdout",
          "text": [
            "Epoch 1/10\n",
            "38/38 [==============================] - 11s 126ms/step - loss: 0.0400 - mse: 0.0400\n",
            "Epoch 2/10\n",
            "38/38 [==============================] - 4s 94ms/step - loss: 0.0056 - mse: 0.0056\n",
            "Epoch 3/10\n",
            "38/38 [==============================] - 4s 95ms/step - loss: 0.0055 - mse: 0.0055\n",
            "Epoch 4/10\n",
            "38/38 [==============================] - 5s 125ms/step - loss: 0.0046 - mse: 0.0046\n",
            "Epoch 5/10\n",
            "38/38 [==============================] - 4s 94ms/step - loss: 0.0042 - mse: 0.0042\n",
            "Epoch 6/10\n",
            "38/38 [==============================] - 4s 93ms/step - loss: 0.0046 - mse: 0.0046\n",
            "Epoch 7/10\n",
            "38/38 [==============================] - 4s 102ms/step - loss: 0.0044 - mse: 0.0044\n",
            "Epoch 8/10\n",
            "38/38 [==============================] - 4s 117ms/step - loss: 0.0043 - mse: 0.0043\n",
            "Epoch 9/10\n",
            "38/38 [==============================] - 3s 92ms/step - loss: 0.0039 - mse: 0.0039\n",
            "Epoch 10/10\n",
            "38/38 [==============================] - 5s 120ms/step - loss: 0.0042 - mse: 0.0042\n"
          ]
        },
        {
          "output_type": "execute_result",
          "data": {
            "text/plain": [
              "<keras.callbacks.History at 0x7fd5d86d98a0>"
            ]
          },
          "metadata": {},
          "execution_count": 66
        }
      ]
    },
    {
      "cell_type": "code",
      "source": [
        "#GRU"
      ],
      "metadata": {
        "id": "57rvHshHXZsk"
      },
      "execution_count": null,
      "outputs": []
    },
    {
      "cell_type": "code",
      "source": [
        "from keras.layers import TimeDistributed\n",
        "from keras.layers import Bidirectional,BatchNormalization"
      ],
      "metadata": {
        "id": "RVRIyqBQX_So"
      },
      "execution_count": null,
      "outputs": []
    },
    {
      "cell_type": "code",
      "source": [],
      "metadata": {
        "id": "UFylU7kZZoN6"
      },
      "execution_count": null,
      "outputs": []
    }
  ]
}