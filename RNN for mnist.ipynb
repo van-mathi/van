{
  "nbformat": 4,
  "nbformat_minor": 0,
  "metadata": {
    "colab": {
      "provenance": []
    },
    "kernelspec": {
      "name": "python3",
      "display_name": "Python 3"
    },
    "language_info": {
      "name": "python"
    }
  },
  "cells": [
    {
      "cell_type": "markdown",
      "source": [
        "RNN FOR MNIST"
      ],
      "metadata": {
        "id": "7E98fvetG2mn"
      }
    },
    {
      "cell_type": "code",
      "execution_count": 1,
      "metadata": {
        "id": "eYAdDLb8FX1J"
      },
      "outputs": [],
      "source": [
        "import numpy as np\n",
        "from keras.models import Sequential\n",
        "from keras.layers import Dense,Activation,SimpleRNN\n",
        "from keras.utils import to_categorical,plot_model\n",
        "from keras.datasets import mnist"
      ]
    },
    {
      "cell_type": "code",
      "source": [
        "(x_train,y_train),(x_test,y_test)=mnist.load_data()"
      ],
      "metadata": {
        "colab": {
          "base_uri": "https://localhost:8080/"
        },
        "id": "VgHJWSanFcSp",
        "outputId": "ef46c3d0-2ede-4928-8045-3a4efec64d77"
      },
      "execution_count": 2,
      "outputs": [
        {
          "output_type": "stream",
          "name": "stdout",
          "text": [
            "Downloading data from https://storage.googleapis.com/tensorflow/tf-keras-datasets/mnist.npz\n",
            "11490434/11490434 [==============================] - 0s 0us/step\n"
          ]
        }
      ]
    },
    {
      "cell_type": "code",
      "source": [
        "#CONVERT TO ONE-HOT VECTOR\n",
        "y_train=to_categorical(y_train)\n",
        "y_test=to_categorical(y_test)"
      ],
      "metadata": {
        "id": "JbkM-R5NFcUp"
      },
      "execution_count": 3,
      "outputs": []
    },
    {
      "cell_type": "code",
      "source": [
        "# Flatten the 28x28 images to a 1D vector of 784 features\n",
        "x_train = x_train.reshape(-1, 28,28)\n",
        "x_test = x_test.reshape(-1, 28,28)"
      ],
      "metadata": {
        "id": "9IODAKBFFcW_"
      },
      "execution_count": 6,
      "outputs": []
    },
    {
      "cell_type": "code",
      "source": [
        "#network parameters\n",
        "image_size=28\n",
        "input_shape=(image_size,image_size)\n",
        "batch_size=128\n",
        "units=28\n",
        "dropout=0.2"
      ],
      "metadata": {
        "id": "VXoZ_64FFcYy"
      },
      "execution_count": 7,
      "outputs": []
    },
    {
      "cell_type": "code",
      "source": [
        "#model is RNN with 256 units,input-28dim vector with 28 timesteps\n",
        "model=Sequential()\n",
        "model.add(SimpleRNN(units=units,input_shape=input_shape))\n",
        "model.add(Dense(10))\n",
        "model.add(Activation('softmax'))\n",
        "model.summary()"
      ],
      "metadata": {
        "colab": {
          "base_uri": "https://localhost:8080/"
        },
        "id": "TqobZXldFcbs",
        "outputId": "c87719fb-20df-4eaa-d2fd-e55d36c1ff6d"
      },
      "execution_count": 8,
      "outputs": [
        {
          "output_type": "stream",
          "name": "stdout",
          "text": [
            "Model: \"sequential\"\n",
            "_________________________________________________________________\n",
            " Layer (type)                Output Shape              Param #   \n",
            "=================================================================\n",
            " simple_rnn (SimpleRNN)      (None, 28)                1596      \n",
            "                                                                 \n",
            " dense (Dense)               (None, 10)                290       \n",
            "                                                                 \n",
            " activation (Activation)     (None, 10)                0         \n",
            "                                                                 \n",
            "=================================================================\n",
            "Total params: 1,886\n",
            "Trainable params: 1,886\n",
            "Non-trainable params: 0\n",
            "_________________________________________________________________\n"
          ]
        }
      ]
    },
    {
      "cell_type": "code",
      "source": [
        "#to compile the model\n",
        "model.compile(optimizer=\"adam\", loss = 'categorical_crossentropy', metrics = ['accuracy'])"
      ],
      "metadata": {
        "id": "TyKUHngZFriJ"
      },
      "execution_count": 9,
      "outputs": []
    },
    {
      "cell_type": "code",
      "source": [
        "model.fit(x_train,y_train,epochs=20,batch_size=batch_size)"
      ],
      "metadata": {
        "colab": {
          "base_uri": "https://localhost:8080/"
        },
        "id": "9zkV1iBDFrj6",
        "outputId": "e8f43bbd-77f8-4f61-ddc8-442c0706fc1c"
      },
      "execution_count": 10,
      "outputs": [
        {
          "output_type": "stream",
          "name": "stdout",
          "text": [
            "Epoch 1/20\n",
            "469/469 [==============================] - 6s 8ms/step - loss: 1.7180 - accuracy: 0.3867\n",
            "Epoch 2/20\n",
            "469/469 [==============================] - 4s 8ms/step - loss: 1.3934 - accuracy: 0.4818\n",
            "Epoch 3/20\n",
            "469/469 [==============================] - 4s 10ms/step - loss: 1.3509 - accuracy: 0.4935\n",
            "Epoch 4/20\n",
            "469/469 [==============================] - 4s 8ms/step - loss: 1.3349 - accuracy: 0.4988\n",
            "Epoch 5/20\n",
            "469/469 [==============================] - 4s 8ms/step - loss: 1.3204 - accuracy: 0.5031\n",
            "Epoch 6/20\n",
            "469/469 [==============================] - 4s 8ms/step - loss: 1.3125 - accuracy: 0.5057\n",
            "Epoch 7/20\n",
            "469/469 [==============================] - 4s 9ms/step - loss: 1.3065 - accuracy: 0.5060\n",
            "Epoch 8/20\n",
            "469/469 [==============================] - 3s 7ms/step - loss: 1.3007 - accuracy: 0.5085\n",
            "Epoch 9/20\n",
            "469/469 [==============================] - 4s 8ms/step - loss: 1.2952 - accuracy: 0.5111\n",
            "Epoch 10/20\n",
            "469/469 [==============================] - 5s 10ms/step - loss: 1.2895 - accuracy: 0.5106\n",
            "Epoch 11/20\n",
            "469/469 [==============================] - 4s 8ms/step - loss: 1.2863 - accuracy: 0.5136\n",
            "Epoch 12/20\n",
            "469/469 [==============================] - 5s 10ms/step - loss: 1.2810 - accuracy: 0.5141\n",
            "Epoch 13/20\n",
            "469/469 [==============================] - 5s 10ms/step - loss: 1.2793 - accuracy: 0.5130\n",
            "Epoch 14/20\n",
            "469/469 [==============================] - 4s 8ms/step - loss: 1.2763 - accuracy: 0.5132\n",
            "Epoch 15/20\n",
            "469/469 [==============================] - 4s 8ms/step - loss: 1.2713 - accuracy: 0.5185\n",
            "Epoch 16/20\n",
            "469/469 [==============================] - 4s 10ms/step - loss: 1.2696 - accuracy: 0.5178\n",
            "Epoch 17/20\n",
            "469/469 [==============================] - 4s 8ms/step - loss: 1.2657 - accuracy: 0.5187\n",
            "Epoch 18/20\n",
            "469/469 [==============================] - 4s 8ms/step - loss: 1.2621 - accuracy: 0.5187\n",
            "Epoch 19/20\n",
            "469/469 [==============================] - 4s 9ms/step - loss: 1.2590 - accuracy: 0.5219\n",
            "Epoch 20/20\n",
            "469/469 [==============================] - 4s 8ms/step - loss: 1.2552 - accuracy: 0.5221\n"
          ]
        },
        {
          "output_type": "execute_result",
          "data": {
            "text/plain": [
              "<keras.callbacks.History at 0x78925191afe0>"
            ]
          },
          "metadata": {},
          "execution_count": 10
        }
      ]
    },
    {
      "cell_type": "code",
      "source": [
        "loss,acc=model.evaluate(x_test,y_test,batch_size=batch_size)\n",
        "print(\"\\nTest accuracy:%.1f%%\" % (100.0*acc))"
      ],
      "metadata": {
        "colab": {
          "base_uri": "https://localhost:8080/"
        },
        "id": "-TYGpvooFrl4",
        "outputId": "fdc2231f-5e77-4d3f-825c-443a018f72de"
      },
      "execution_count": 11,
      "outputs": [
        {
          "output_type": "stream",
          "name": "stdout",
          "text": [
            "79/79 [==============================] - 1s 4ms/step - loss: 1.2827 - accuracy: 0.5193\n",
            "\n",
            "Test accuracy:51.9%\n"
          ]
        }
      ]
    }
  ]
}