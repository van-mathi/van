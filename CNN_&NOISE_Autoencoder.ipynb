{
  "cells": [
    {
      "cell_type": "markdown",
      "source": [
        "Autoencoder"
      ],
      "metadata": {
        "id": "-lkHTZYWHjDA"
      }
    },
    {
      "cell_type": "code",
      "execution_count": 1,
      "metadata": {
        "id": "iKKCq37R_pbR"
      },
      "outputs": [],
      "source": [
        "from tensorflow.keras.datasets import mnist\n",
        "from tensorflow.keras.layers import Dense, Input, Flatten,\\\n",
        "Reshape, LeakyReLU as LR,\\\n",
        "Activation, Dropout\n",
        "from tensorflow.keras.models import Model, Sequential\n",
        "from matplotlib import pyplot as plt\n",
        "from IPython import display # If using IPython, Colab or Jupyter\n",
        "import numpy as np"
      ]
    },
    {
      "cell_type": "code",
      "execution_count": 2,
      "metadata": {
        "id": "7X6cXBVTHgQ7"
      },
      "outputs": [],
      "source": [
        "import numpy as np\n",
        "from tensorflow.keras.datasets import mnist\n",
        "from tensorflow.keras.layers import Dense, Input, Flatten, Activation\n",
        "from tensorflow.keras.models import Model, Sequential"
      ]
    },
    {
      "cell_type": "code",
      "execution_count": 3,
      "metadata": {
        "colab": {
          "base_uri": "https://localhost:8080/"
        },
        "id": "nwIXAJBR_u3k",
        "outputId": "1932d12f-b0c3-4c26-d08d-044b07613b68"
      },
      "outputs": [
        {
          "output_type": "stream",
          "name": "stdout",
          "text": [
            "Downloading data from https://storage.googleapis.com/tensorflow/tf-keras-datasets/mnist.npz\n",
            "11490434/11490434 [==============================] - 0s 0us/step\n"
          ]
        }
      ],
      "source": [
        "(x_train, y_train), (x_test, y_test) = mnist.load_data()\n",
        "x_train = x_train/255.0\n",
        "x_test = x_test/255.0"
      ]
    },
    {
      "cell_type": "code",
      "execution_count": 4,
      "metadata": {
        "colab": {
          "base_uri": "https://localhost:8080/"
        },
        "id": "t0G1tfl4_0JP",
        "outputId": "28f2441d-59f1-4626-ecdb-7967794140b4"
      },
      "outputs": [
        {
          "output_type": "stream",
          "name": "stdout",
          "text": [
            "Model: \"model\"\n",
            "_________________________________________________________________\n",
            " Layer (type)                Output Shape              Param #   \n",
            "=================================================================\n",
            " input_1 (InputLayer)        [(None, 28, 28)]          0         \n",
            "                                                                 \n",
            " dense (Dense)               (None, 28, 32)            928       \n",
            "                                                                 \n",
            " dense_1 (Dense)             (None, 28, 28)            924       \n",
            "                                                                 \n",
            "=================================================================\n",
            "Total params: 1,852\n",
            "Trainable params: 1,852\n",
            "Non-trainable params: 0\n",
            "_________________________________________________________________\n"
          ]
        }
      ],
      "source": [
        "InputModel = Input(shape=(28,28))\n",
        "EncodedLayer = Dense(32, activation='relu')(InputModel)\n",
        "DecodedLayer = Dense(28, activation='sigmoid')(EncodedLayer)\n",
        "AutoencoderModel = Model(InputModel, DecodedLayer)\n",
        "# we can summarize our model.\n",
        "AutoencoderModel.summary()"
      ]
    },
    {
      "cell_type": "code",
      "execution_count": 5,
      "metadata": {
        "id": "TUS2cHypABBU"
      },
      "outputs": [],
      "source": [
        "AutoencoderModel.compile(optimizer='adadelta', loss='binary_crossentropy')"
      ]
    },
    {
      "cell_type": "code",
      "execution_count": 6,
      "metadata": {
        "colab": {
          "base_uri": "https://localhost:8080/"
        },
        "id": "LPiWjdV3AF9X",
        "outputId": "6610fc7f-b734-44c5-a71d-2aac28a984e3"
      },
      "outputs": [
        {
          "output_type": "stream",
          "name": "stdout",
          "text": [
            "Epoch 1/100\n",
            "235/235 [==============================] - 10s 32ms/step - loss: 0.6947 - val_loss: 0.6945\n",
            "Epoch 2/100\n",
            "235/235 [==============================] - 6s 27ms/step - loss: 0.6941 - val_loss: 0.6938\n",
            "Epoch 3/100\n",
            "235/235 [==============================] - 6s 26ms/step - loss: 0.6933 - val_loss: 0.6930\n",
            "Epoch 4/100\n",
            "235/235 [==============================] - 6s 23ms/step - loss: 0.6925 - val_loss: 0.6921\n",
            "Epoch 5/100\n",
            "235/235 [==============================] - 3s 13ms/step - loss: 0.6916 - val_loss: 0.6912\n",
            "Epoch 6/100\n",
            "235/235 [==============================] - 3s 13ms/step - loss: 0.6906 - val_loss: 0.6902\n",
            "Epoch 7/100\n",
            "235/235 [==============================] - 4s 17ms/step - loss: 0.6897 - val_loss: 0.6892\n",
            "Epoch 8/100\n",
            "235/235 [==============================] - 3s 13ms/step - loss: 0.6887 - val_loss: 0.6882\n",
            "Epoch 9/100\n",
            "235/235 [==============================] - 3s 13ms/step - loss: 0.6876 - val_loss: 0.6871\n",
            "Epoch 10/100\n",
            "235/235 [==============================] - 3s 13ms/step - loss: 0.6866 - val_loss: 0.6860\n",
            "Epoch 11/100\n",
            "235/235 [==============================] - 4s 18ms/step - loss: 0.6855 - val_loss: 0.6849\n",
            "Epoch 12/100\n",
            "235/235 [==============================] - 3s 13ms/step - loss: 0.6843 - val_loss: 0.6838\n",
            "Epoch 13/100\n",
            "235/235 [==============================] - 3s 13ms/step - loss: 0.6832 - val_loss: 0.6826\n",
            "Epoch 14/100\n",
            "235/235 [==============================] - 3s 13ms/step - loss: 0.6820 - val_loss: 0.6814\n",
            "Epoch 15/100\n",
            "235/235 [==============================] - 4s 18ms/step - loss: 0.6808 - val_loss: 0.6802\n",
            "Epoch 16/100\n",
            "235/235 [==============================] - 3s 13ms/step - loss: 0.6796 - val_loss: 0.6790\n",
            "Epoch 17/100\n",
            "235/235 [==============================] - 3s 13ms/step - loss: 0.6784 - val_loss: 0.6777\n",
            "Epoch 18/100\n",
            "235/235 [==============================] - 3s 13ms/step - loss: 0.6772 - val_loss: 0.6765\n",
            "Epoch 19/100\n",
            "235/235 [==============================] - 4s 18ms/step - loss: 0.6759 - val_loss: 0.6752\n",
            "Epoch 20/100\n",
            "235/235 [==============================] - 3s 13ms/step - loss: 0.6746 - val_loss: 0.6739\n",
            "Epoch 21/100\n",
            "235/235 [==============================] - 3s 13ms/step - loss: 0.6733 - val_loss: 0.6725\n",
            "Epoch 22/100\n",
            "235/235 [==============================] - 3s 13ms/step - loss: 0.6720 - val_loss: 0.6712\n",
            "Epoch 23/100\n",
            "235/235 [==============================] - 4s 18ms/step - loss: 0.6706 - val_loss: 0.6698\n",
            "Epoch 24/100\n",
            "235/235 [==============================] - 3s 13ms/step - loss: 0.6692 - val_loss: 0.6684\n",
            "Epoch 25/100\n",
            "235/235 [==============================] - 3s 13ms/step - loss: 0.6679 - val_loss: 0.6670\n",
            "Epoch 26/100\n",
            "235/235 [==============================] - 3s 13ms/step - loss: 0.6665 - val_loss: 0.6656\n",
            "Epoch 27/100\n",
            "235/235 [==============================] - 4s 18ms/step - loss: 0.6651 - val_loss: 0.6642\n",
            "Epoch 28/100\n",
            "235/235 [==============================] - 3s 12ms/step - loss: 0.6636 - val_loss: 0.6627\n",
            "Epoch 29/100\n",
            "235/235 [==============================] - 3s 13ms/step - loss: 0.6622 - val_loss: 0.6613\n",
            "Epoch 30/100\n",
            "235/235 [==============================] - 3s 13ms/step - loss: 0.6607 - val_loss: 0.6598\n",
            "Epoch 31/100\n",
            "235/235 [==============================] - 4s 17ms/step - loss: 0.6592 - val_loss: 0.6583\n",
            "Epoch 32/100\n",
            "235/235 [==============================] - 3s 12ms/step - loss: 0.6577 - val_loss: 0.6567\n",
            "Epoch 33/100\n",
            "235/235 [==============================] - 3s 13ms/step - loss: 0.6562 - val_loss: 0.6552\n",
            "Epoch 34/100\n",
            "235/235 [==============================] - 3s 13ms/step - loss: 0.6546 - val_loss: 0.6536\n",
            "Epoch 35/100\n",
            "235/235 [==============================] - 4s 17ms/step - loss: 0.6531 - val_loss: 0.6520\n",
            "Epoch 36/100\n",
            "235/235 [==============================] - 4s 15ms/step - loss: 0.6515 - val_loss: 0.6504\n",
            "Epoch 37/100\n",
            "235/235 [==============================] - 4s 18ms/step - loss: 0.6499 - val_loss: 0.6488\n",
            "Epoch 38/100\n",
            "235/235 [==============================] - 5s 20ms/step - loss: 0.6483 - val_loss: 0.6472\n",
            "Epoch 39/100\n",
            "235/235 [==============================] - 3s 13ms/step - loss: 0.6466 - val_loss: 0.6455\n",
            "Epoch 40/100\n",
            "235/235 [==============================] - 3s 13ms/step - loss: 0.6450 - val_loss: 0.6438\n",
            "Epoch 41/100\n",
            "235/235 [==============================] - 3s 13ms/step - loss: 0.6433 - val_loss: 0.6422\n",
            "Epoch 42/100\n",
            "235/235 [==============================] - 4s 18ms/step - loss: 0.6416 - val_loss: 0.6404\n",
            "Epoch 43/100\n",
            "235/235 [==============================] - 3s 13ms/step - loss: 0.6399 - val_loss: 0.6387\n",
            "Epoch 44/100\n",
            "235/235 [==============================] - 3s 13ms/step - loss: 0.6382 - val_loss: 0.6369\n",
            "Epoch 45/100\n",
            "235/235 [==============================] - 3s 13ms/step - loss: 0.6364 - val_loss: 0.6352\n",
            "Epoch 46/100\n",
            "235/235 [==============================] - 4s 18ms/step - loss: 0.6346 - val_loss: 0.6334\n",
            "Epoch 47/100\n",
            "235/235 [==============================] - 3s 13ms/step - loss: 0.6329 - val_loss: 0.6316\n",
            "Epoch 48/100\n",
            "235/235 [==============================] - 3s 12ms/step - loss: 0.6310 - val_loss: 0.6297\n",
            "Epoch 49/100\n",
            "235/235 [==============================] - 3s 13ms/step - loss: 0.6292 - val_loss: 0.6279\n",
            "Epoch 50/100\n",
            "235/235 [==============================] - 4s 18ms/step - loss: 0.6273 - val_loss: 0.6260\n",
            "Epoch 51/100\n",
            "235/235 [==============================] - 3s 13ms/step - loss: 0.6255 - val_loss: 0.6241\n",
            "Epoch 52/100\n",
            "235/235 [==============================] - 3s 13ms/step - loss: 0.6236 - val_loss: 0.6222\n",
            "Epoch 53/100\n",
            "235/235 [==============================] - 3s 13ms/step - loss: 0.6217 - val_loss: 0.6202\n",
            "Epoch 54/100\n",
            "235/235 [==============================] - 4s 18ms/step - loss: 0.6197 - val_loss: 0.6183\n",
            "Epoch 55/100\n",
            "235/235 [==============================] - 3s 13ms/step - loss: 0.6178 - val_loss: 0.6163\n",
            "Epoch 56/100\n",
            "235/235 [==============================] - 3s 13ms/step - loss: 0.6158 - val_loss: 0.6143\n",
            "Epoch 57/100\n",
            "235/235 [==============================] - 3s 13ms/step - loss: 0.6138 - val_loss: 0.6123\n",
            "Epoch 58/100\n",
            "235/235 [==============================] - 4s 18ms/step - loss: 0.6118 - val_loss: 0.6102\n",
            "Epoch 59/100\n",
            "235/235 [==============================] - 4s 18ms/step - loss: 0.6097 - val_loss: 0.6082\n",
            "Epoch 60/100\n",
            "235/235 [==============================] - 5s 20ms/step - loss: 0.6077 - val_loss: 0.6061\n",
            "Epoch 61/100\n",
            "235/235 [==============================] - 4s 19ms/step - loss: 0.6056 - val_loss: 0.6040\n",
            "Epoch 62/100\n",
            "235/235 [==============================] - 3s 13ms/step - loss: 0.6035 - val_loss: 0.6019\n",
            "Epoch 63/100\n",
            "235/235 [==============================] - 3s 13ms/step - loss: 0.6014 - val_loss: 0.5998\n",
            "Epoch 64/100\n",
            "235/235 [==============================] - 3s 13ms/step - loss: 0.5993 - val_loss: 0.5976\n",
            "Epoch 65/100\n",
            "235/235 [==============================] - 4s 18ms/step - loss: 0.5971 - val_loss: 0.5954\n",
            "Epoch 66/100\n",
            "235/235 [==============================] - 3s 14ms/step - loss: 0.5949 - val_loss: 0.5932\n",
            "Epoch 67/100\n",
            "235/235 [==============================] - 3s 13ms/step - loss: 0.5928 - val_loss: 0.5910\n",
            "Epoch 68/100\n",
            "235/235 [==============================] - 3s 14ms/step - loss: 0.5905 - val_loss: 0.5888\n",
            "Epoch 69/100\n",
            "235/235 [==============================] - 4s 17ms/step - loss: 0.5883 - val_loss: 0.5865\n",
            "Epoch 70/100\n",
            "235/235 [==============================] - 3s 13ms/step - loss: 0.5861 - val_loss: 0.5843\n",
            "Epoch 71/100\n",
            "235/235 [==============================] - 3s 13ms/step - loss: 0.5838 - val_loss: 0.5820\n",
            "Epoch 72/100\n",
            "235/235 [==============================] - 4s 15ms/step - loss: 0.5815 - val_loss: 0.5797\n",
            "Epoch 73/100\n",
            "235/235 [==============================] - 4s 16ms/step - loss: 0.5793 - val_loss: 0.5774\n",
            "Epoch 74/100\n",
            "235/235 [==============================] - 3s 13ms/step - loss: 0.5769 - val_loss: 0.5751\n",
            "Epoch 75/100\n",
            "235/235 [==============================] - 3s 13ms/step - loss: 0.5746 - val_loss: 0.5727\n",
            "Epoch 76/100\n",
            "235/235 [==============================] - 4s 16ms/step - loss: 0.5723 - val_loss: 0.5704\n",
            "Epoch 77/100\n",
            "235/235 [==============================] - 3s 14ms/step - loss: 0.5700 - val_loss: 0.5680\n",
            "Epoch 78/100\n",
            "235/235 [==============================] - 3s 13ms/step - loss: 0.5676 - val_loss: 0.5657\n",
            "Epoch 79/100\n",
            "235/235 [==============================] - 3s 13ms/step - loss: 0.5653 - val_loss: 0.5633\n",
            "Epoch 80/100\n",
            "235/235 [==============================] - 4s 18ms/step - loss: 0.5629 - val_loss: 0.5609\n",
            "Epoch 81/100\n",
            "235/235 [==============================] - 3s 13ms/step - loss: 0.5605 - val_loss: 0.5585\n",
            "Epoch 82/100\n",
            "235/235 [==============================] - 3s 13ms/step - loss: 0.5581 - val_loss: 0.5561\n",
            "Epoch 83/100\n",
            "235/235 [==============================] - 3s 13ms/step - loss: 0.5557 - val_loss: 0.5537\n",
            "Epoch 84/100\n",
            "235/235 [==============================] - 4s 17ms/step - loss: 0.5533 - val_loss: 0.5513\n",
            "Epoch 85/100\n",
            "235/235 [==============================] - 3s 13ms/step - loss: 0.5509 - val_loss: 0.5489\n",
            "Epoch 86/100\n",
            "235/235 [==============================] - 3s 13ms/step - loss: 0.5485 - val_loss: 0.5465\n",
            "Epoch 87/100\n",
            "235/235 [==============================] - 3s 12ms/step - loss: 0.5461 - val_loss: 0.5440\n",
            "Epoch 88/100\n",
            "235/235 [==============================] - 4s 18ms/step - loss: 0.5437 - val_loss: 0.5416\n",
            "Epoch 89/100\n",
            "235/235 [==============================] - 3s 13ms/step - loss: 0.5413 - val_loss: 0.5392\n",
            "Epoch 90/100\n",
            "235/235 [==============================] - 3s 13ms/step - loss: 0.5388 - val_loss: 0.5367\n",
            "Epoch 91/100\n",
            "235/235 [==============================] - 3s 13ms/step - loss: 0.5364 - val_loss: 0.5343\n",
            "Epoch 92/100\n",
            "235/235 [==============================] - 4s 18ms/step - loss: 0.5340 - val_loss: 0.5319\n",
            "Epoch 93/100\n",
            "235/235 [==============================] - 3s 13ms/step - loss: 0.5316 - val_loss: 0.5295\n",
            "Epoch 94/100\n",
            "235/235 [==============================] - 3s 13ms/step - loss: 0.5292 - val_loss: 0.5270\n",
            "Epoch 95/100\n",
            "235/235 [==============================] - 3s 13ms/step - loss: 0.5267 - val_loss: 0.5246\n",
            "Epoch 96/100\n",
            "235/235 [==============================] - 4s 18ms/step - loss: 0.5243 - val_loss: 0.5222\n",
            "Epoch 97/100\n",
            "235/235 [==============================] - 3s 13ms/step - loss: 0.5219 - val_loss: 0.5198\n",
            "Epoch 98/100\n",
            "235/235 [==============================] - 3s 13ms/step - loss: 0.5195 - val_loss: 0.5174\n",
            "Epoch 99/100\n",
            "235/235 [==============================] - 3s 13ms/step - loss: 0.5171 - val_loss: 0.5150\n",
            "Epoch 100/100\n",
            "235/235 [==============================] - 4s 18ms/step - loss: 0.5148 - val_loss: 0.5126\n",
            "313/313 [==============================] - 1s 2ms/step\n"
          ]
        }
      ],
      "source": [
        "history = AutoencoderModel.fit(x_train, x_train,\n",
        "\n",
        "batch_size=256,\n",
        "epochs=100,\n",
        "shuffle=True,\n",
        "validation_data=(x_test, x_test))\n",
        "\n",
        "# Make prediction to decode the digits\n",
        "DecodedDigits = AutoencoderModel.predict(x_test)"
      ]
    },
    {
      "cell_type": "code",
      "execution_count": 7,
      "metadata": {
        "colab": {
          "base_uri": "https://localhost:8080/"
        },
        "id": "s0p57AssAMiz",
        "outputId": "0f035bc0-14e6-458d-9643-c9c869be7cfc"
      },
      "outputs": [
        {
          "output_type": "stream",
          "name": "stdout",
          "text": [
            "313/313 [==============================] - 1s 2ms/step\n"
          ]
        }
      ],
      "source": [
        "DecodedDigits = AutoencoderModel.predict(x_test)"
      ]
    },
    {
      "cell_type": "code",
      "execution_count": 8,
      "metadata": {
        "id": "M-jZAS60AQxU"
      },
      "outputs": [],
      "source": [
        "def plotmodelhistory(history):\n",
        "  plt.plot(history.history['loss'])\n",
        "  plt.plot(history.history['val_loss'])\n",
        "  plt.title('Autoencoder Model loss')\n",
        "  plt.ylabel('Loss')\n",
        "  plt.xlabel('Epoch')\n",
        "  plt.legend(['Train', 'Test'], loc='upper left')\n",
        "  plt.show()"
      ]
    },
    {
      "cell_type": "code",
      "execution_count": 9,
      "metadata": {
        "colab": {
          "base_uri": "https://localhost:8080/",
          "height": 489
        },
        "id": "_5-YaGmIAYPJ",
        "outputId": "d839bf91-daa1-42d2-82ec-55abc90e27a9"
      },
      "outputs": [
        {
          "output_type": "stream",
          "name": "stdout",
          "text": [
            "dict_keys(['loss', 'val_loss'])\n"
          ]
        },
        {
          "output_type": "display_data",
          "data": {
            "text/plain": [
              "<Figure size 640x480 with 1 Axes>"
            ],
            "image/png": "[encoded data removed]"
          },
          "metadata": {}
        }
      ],
      "source": [
        "# list all data in history\n",
        "print(history.history.keys())\n",
        "# visualization of the loss minimization during the training process\n",
        "plotmodelhistory(history)"
      ]
    },
    {
      "cell_type": "code",
      "execution_count": 10,
      "metadata": {
        "id": "t7IXQm2-Aihe"
      },
      "outputs": [],
      "source": [
        "# Acquire MNIST data\n",
        "from tensorflow.keras.datasets import mnist\n",
        "(train_images, train_labels), (test_images, test_labels) = mnist.load_data()"
      ]
    },
    {
      "cell_type": "code",
      "execution_count": 11,
      "metadata": {
        "id": "2SLQQH3TApBG"
      },
      "outputs": [],
      "source": [
        "# Reshape data for an MLP input\n",
        "import numpy as np\n",
        "train_images = np.reshape(train_images, (-1, 784))\n",
        "test_images = np.reshape(test_images, (-1, 784))"
      ]
    },
    {
      "cell_type": "code",
      "execution_count": 12,
      "metadata": {
        "colab": {
          "base_uri": "https://localhost:8080/"
        },
        "id": "r4qcfpAAArnh",
        "outputId": "415bdecd-d382-46e5-975f-9c374c1d7fe1"
      },
      "outputs": [
        {
          "output_type": "stream",
          "name": "stdout",
          "text": [
            "[0.         0.         0.         0.         0.         0.\n",
            " 0.         0.         0.         0.         0.         0.\n",
            " 0.         0.         0.         0.         0.         0.\n",
            " 0.         0.         0.         0.         0.         0.\n",
            " 0.         0.         0.         0.         0.         0.\n",
            " 0.         0.         0.         0.         0.         0.\n",
            " 0.         0.         0.         0.         0.         0.\n",
            " 0.         0.         0.         0.         0.         0.\n",
            " 0.         0.         0.         0.         0.         0.\n",
            " 0.         0.         0.         0.         0.         0.\n",
            " 0.         0.         0.         0.         0.         0.\n",
            " 0.         0.         0.         0.         0.         0.\n",
            " 0.         0.         0.         0.         0.         0.\n",
            " 0.         0.         0.         0.         0.         0.\n",
            " 0.         0.         0.         0.         0.         0.\n",
            " 0.         0.         0.         0.         0.         0.\n",
            " 0.         0.         0.         0.         0.         0.\n",
            " 0.         0.         0.         0.         0.         0.\n",
            " 0.         0.         0.         0.         0.         0.\n",
            " 0.         0.         0.         0.         0.         0.\n",
            " 0.         0.         0.         0.         0.         0.\n",
            " 0.         0.         0.         0.         0.         0.\n",
            " 0.         0.         0.         0.         0.         0.\n",
            " 0.         0.         0.         0.         0.         0.\n",
            " 0.         0.         0.         0.         0.         0.\n",
            " 0.         0.         0.01176471 0.07058824 0.07058824 0.07058824\n",
            " 0.49411765 0.53333336 0.6862745  0.10196079 0.6509804  1.\n",
            " 0.96862745 0.49803922 0.         0.         0.         0.\n",
            " 0.         0.         0.         0.         0.         0.\n",
            " 0.         0.         0.11764706 0.14117648 0.36862746 0.6039216\n",
            " 0.6666667  0.99215686 0.99215686 0.99215686 0.99215686 0.99215686\n",
            " 0.88235295 0.6745098  0.99215686 0.9490196  0.7647059  0.2509804\n",
            " 0.         0.         0.         0.         0.         0.\n",
            " 0.         0.         0.         0.         0.         0.19215687\n",
            " 0.93333334 0.99215686 0.99215686 0.99215686 0.99215686 0.99215686\n",
            " 0.99215686 0.99215686 0.99215686 0.9843137  0.3647059  0.32156864\n",
            " 0.32156864 0.21960784 0.15294118 0.         0.         0.\n",
            " 0.         0.         0.         0.         0.         0.\n",
            " 0.         0.         0.         0.07058824 0.85882354 0.99215686\n",
            " 0.99215686 0.99215686 0.99215686 0.99215686 0.7764706  0.7137255\n",
            " 0.96862745 0.94509804 0.         0.         0.         0.\n",
            " 0.         0.         0.         0.         0.         0.\n",
            " 0.         0.         0.         0.         0.         0.\n",
            " 0.         0.         0.3137255  0.6117647  0.41960785 0.99215686\n",
            " 0.99215686 0.8039216  0.04313726 0.         0.16862746 0.6039216\n",
            " 0.         0.         0.         0.         0.         0.\n",
            " 0.         0.         0.         0.         0.         0.\n",
            " 0.         0.         0.         0.         0.         0.\n",
            " 0.         0.05490196 0.00392157 0.6039216  0.99215686 0.3529412\n",
            " 0.         0.         0.         0.         0.         0.\n",
            " 0.         0.         0.         0.         0.         0.\n",
            " 0.         0.         0.         0.         0.         0.\n",
            " 0.         0.         0.         0.         0.         0.\n",
            " 0.         0.54509807 0.99215686 0.74509805 0.00784314 0.\n",
            " 0.         0.         0.         0.         0.         0.\n",
            " 0.         0.         0.         0.         0.         0.\n",
            " 0.         0.         0.         0.         0.         0.\n",
            " 0.         0.         0.         0.         0.         0.04313726\n",
            " 0.74509805 0.99215686 0.27450982 0.         0.         0.\n",
            " 0.         0.         0.         0.         0.         0.\n",
            " 0.         0.         0.         0.         0.         0.\n",
            " 0.         0.         0.         0.         0.         0.\n",
            " 0.         0.         0.         0.         0.13725491 0.94509804\n",
            " 0.88235295 0.627451   0.42352942 0.00392157 0.         0.\n",
            " 0.         0.         0.         0.         0.         0.\n",
            " 0.         0.         0.         0.         0.         0.\n",
            " 0.         0.         0.         0.         0.         0.\n",
            " 0.         0.         0.         0.31764707 0.9411765  0.99215686\n",
            " 0.99215686 0.46666667 0.09803922 0.         0.         0.\n",
            " 0.         0.         0.         0.         0.         0.\n",
            " 0.         0.         0.         0.         0.         0.\n",
            " 0.         0.         0.         0.         0.         0.\n",
            " 0.         0.         0.1764706  0.7294118  0.99215686 0.99215686\n",
            " 0.5882353  0.10588235 0.         0.         0.         0.\n",
            " 0.         0.         0.         0.         0.         0.\n",
            " 0.         0.         0.         0.         0.         0.\n",
            " 0.         0.         0.         0.         0.         0.\n",
            " 0.         0.0627451  0.3647059  0.9882353  0.99215686 0.73333335\n",
            " 0.         0.         0.         0.         0.         0.\n",
            " 0.         0.         0.         0.         0.         0.\n",
            " 0.         0.         0.         0.         0.         0.\n",
            " 0.         0.         0.         0.         0.         0.\n",
            " 0.         0.9764706  0.99215686 0.9764706  0.2509804  0.\n",
            " 0.         0.         0.         0.         0.         0.\n",
            " 0.         0.         0.         0.         0.         0.\n",
            " 0.         0.         0.         0.         0.         0.\n",
            " 0.         0.         0.18039216 0.50980395 0.7176471  0.99215686\n",
            " 0.99215686 0.8117647  0.00784314 0.         0.         0.\n",
            " 0.         0.         0.         0.         0.         0.\n",
            " 0.         0.         0.         0.         0.         0.\n",
            " 0.         0.         0.         0.         0.15294118 0.5803922\n",
            " 0.8980392  0.99215686 0.99215686 0.99215686 0.98039216 0.7137255\n",
            " 0.         0.         0.         0.         0.         0.\n",
            " 0.         0.         0.         0.         0.         0.\n",
            " 0.         0.         0.         0.         0.         0.\n",
            " 0.09411765 0.44705883 0.8666667  0.99215686 0.99215686 0.99215686\n",
            " 0.99215686 0.7882353  0.30588236 0.         0.         0.\n",
            " 0.         0.         0.         0.         0.         0.\n",
            " 0.         0.         0.         0.         0.         0.\n",
            " 0.         0.         0.09019608 0.25882354 0.8352941  0.99215686\n",
            " 0.99215686 0.99215686 0.99215686 0.7764706  0.31764707 0.00784314\n",
            " 0.         0.         0.         0.         0.         0.\n",
            " 0.         0.         0.         0.         0.         0.\n",
            " 0.         0.         0.         0.         0.07058824 0.67058825\n",
            " 0.85882354 0.99215686 0.99215686 0.99215686 0.99215686 0.7647059\n",
            " 0.3137255  0.03529412 0.         0.         0.         0.\n",
            " 0.         0.         0.         0.         0.         0.\n",
            " 0.         0.         0.         0.         0.         0.\n",
            " 0.21568628 0.6745098  0.8862745  0.99215686 0.99215686 0.99215686\n",
            " 0.99215686 0.95686275 0.52156866 0.04313726 0.         0.\n",
            " 0.         0.         0.         0.         0.         0.\n",
            " 0.         0.         0.         0.         0.         0.\n",
            " 0.         0.         0.         0.         0.53333336 0.99215686\n",
            " 0.99215686 0.99215686 0.83137256 0.5294118  0.5176471  0.0627451\n",
            " 0.         0.         0.         0.         0.         0.\n",
            " 0.         0.         0.         0.         0.         0.\n",
            " 0.         0.         0.         0.         0.         0.\n",
            " 0.         0.         0.         0.         0.         0.\n",
            " 0.         0.         0.         0.         0.         0.\n",
            " 0.         0.         0.         0.         0.         0.\n",
            " 0.         0.         0.         0.         0.         0.\n",
            " 0.         0.         0.         0.         0.         0.\n",
            " 0.         0.         0.         0.         0.         0.\n",
            " 0.         0.         0.         0.         0.         0.\n",
            " 0.         0.         0.         0.         0.         0.\n",
            " 0.         0.         0.         0.         0.         0.\n",
            " 0.         0.         0.         0.         0.         0.\n",
            " 0.         0.         0.         0.         0.         0.\n",
            " 0.         0.         0.         0.         0.         0.\n",
            " 0.         0.         0.         0.         0.         0.\n",
            " 0.         0.         0.         0.        ]\n"
          ]
        }
      ],
      "source": [
        "# Normalize data\n",
        "train_images = train_images.astype('float32') / 255\n",
        "test_images = test_images.astype('float32') / 255\n",
        "print(train_images[0])"
      ]
    },
    {
      "cell_type": "code",
      "execution_count": 13,
      "metadata": {
        "id": "EABcNLZlAuPu"
      },
      "outputs": [],
      "source": [
        "from tensorflow.keras import Model, Input\n",
        "from tensorflow.keras.layers import Dense"
      ]
    },
    {
      "cell_type": "code",
      "execution_count": 14,
      "metadata": {
        "id": "sr4BbQzPAwQp"
      },
      "outputs": [],
      "source": [
        "input_dim = 28*28\n",
        "latent_vec_dim = 16\n",
        "input_layer = Input(shape=(input_dim,))"
      ]
    },
    {
      "cell_type": "code",
      "execution_count": 15,
      "metadata": {
        "colab": {
          "base_uri": "https://localhost:8080/"
        },
        "id": "IQdShQ1kA2e-",
        "outputId": "ca258175-8994-4d0f-fa94-84011c458d3d"
      },
      "outputs": [
        {
          "output_type": "stream",
          "name": "stdout",
          "text": [
            "Model: \"model_1\"\n",
            "_________________________________________________________________\n",
            " Layer (type)                Output Shape              Param #   \n",
            "=================================================================\n",
            " input_2 (InputLayer)        [(None, 784)]             0         \n",
            "                                                                 \n",
            " dense_2 (Dense)             (None, 16)                12560     \n",
            "                                                                 \n",
            " dense_3 (Dense)             (None, 784)               13328     \n",
            "                                                                 \n",
            "=================================================================\n",
            "Total params: 25,888\n",
            "Trainable params: 25,888\n",
            "Non-trainable params: 0\n",
            "_________________________________________________________________\n"
          ]
        }
      ],
      "source": [
        "# Define the autoencoder architecture\n",
        "# First build the encoder\n",
        "enc_layer_1 = Dense(latent_vec_dim, activation='tanh')(input_layer)\n",
        "encoder = enc_layer_1\n",
        "# Then build the decoder\n",
        "dec_layer_1 = Dense(input_dim, activation='sigmoid')(encoder)\n",
        "decoder = dec_layer_1\n",
        "# Connect both encoder and decoder\n",
        "autoencoder = Model(input_layer, decoder)\n",
        "# Latent representation (Optional)\n",
        "latent_model = Model(input_layer, encoder)\n",
        "# Get summary\n",
        "autoencoder.summary()"
      ]
    },
    {
      "cell_type": "code",
      "execution_count": 15,
      "metadata": {
        "id": "Cjzy3HovHgQ_"
      },
      "outputs": [],
      "source": []
    },
    {
      "cell_type": "code",
      "execution_count": 16,
      "metadata": {
        "id": "3yIuXf8BA65Q"
      },
      "outputs": [],
      "source": [
        "autoencoder.compile(loss='binary_crossentropy', optimizer='adam')"
      ]
    },
    {
      "cell_type": "code",
      "execution_count": 17,
      "metadata": {
        "colab": {
          "base_uri": "https://localhost:8080/"
        },
        "id": "ua_Fpar6A9DA",
        "outputId": "72295cce-a132-4016-ae13-c7886cfc21eb"
      },
      "outputs": [
        {
          "output_type": "stream",
          "name": "stdout",
          "text": [
            "Epoch 1/70\n",
            "1875/1875 [==============================] - 6s 3ms/step - loss: 0.2829 - val_loss: 0.2633\n",
            "Epoch 2/70\n",
            "1875/1875 [==============================] - 6s 3ms/step - loss: 0.2632 - val_loss: 0.2627\n",
            "Epoch 3/70\n",
            "1875/1875 [==============================] - 7s 4ms/step - loss: 0.2558 - val_loss: 0.2378\n",
            "Epoch 4/70\n",
            "1875/1875 [==============================] - 6s 3ms/step - loss: 0.2333 - val_loss: 0.2294\n",
            "Epoch 5/70\n",
            "1875/1875 [==============================] - 5s 3ms/step - loss: 0.2273 - val_loss: 0.2165\n",
            "Epoch 6/70\n",
            "1875/1875 [==============================] - 6s 3ms/step - loss: 0.2042 - val_loss: 0.1955\n",
            "Epoch 7/70\n",
            "1875/1875 [==============================] - 6s 3ms/step - loss: 0.1909 - val_loss: 0.1858\n",
            "Epoch 8/70\n",
            "1875/1875 [==============================] - 6s 3ms/step - loss: 0.1823 - val_loss: 0.1761\n",
            "Epoch 9/70\n",
            "1875/1875 [==============================] - 6s 3ms/step - loss: 0.1729 - val_loss: 0.1688\n",
            "Epoch 10/70\n",
            "1875/1875 [==============================] - 5s 3ms/step - loss: 0.1656 - val_loss: 0.1608\n",
            "Epoch 11/70\n",
            "1875/1875 [==============================] - 7s 4ms/step - loss: 0.1588 - val_loss: 0.1537\n",
            "Epoch 12/70\n",
            "1875/1875 [==============================] - 5s 3ms/step - loss: 0.1521 - val_loss: 0.1473\n",
            "Epoch 13/70\n",
            "1875/1875 [==============================] - 7s 4ms/step - loss: 0.1466 - val_loss: 0.1439\n",
            "Epoch 14/70\n",
            "1875/1875 [==============================] - 5s 3ms/step - loss: 0.1438 - val_loss: 0.1410\n",
            "Epoch 15/70\n",
            "1875/1875 [==============================] - 7s 4ms/step - loss: 0.1410 - val_loss: 0.1383\n",
            "Epoch 16/70\n",
            "1875/1875 [==============================] - 5s 3ms/step - loss: 0.1387 - val_loss: 0.1364\n",
            "Epoch 17/70\n",
            "1875/1875 [==============================] - 7s 4ms/step - loss: 0.1371 - val_loss: 0.1352\n",
            "Epoch 18/70\n",
            "1875/1875 [==============================] - 11s 6ms/step - loss: 0.1359 - val_loss: 0.1338\n",
            "Epoch 19/70\n",
            "1875/1875 [==============================] - 6s 3ms/step - loss: 0.1349 - val_loss: 0.1332\n",
            "Epoch 20/70\n",
            "1875/1875 [==============================] - 6s 3ms/step - loss: 0.1339 - val_loss: 0.1320\n",
            "Epoch 21/70\n",
            "1875/1875 [==============================] - 6s 3ms/step - loss: 0.1330 - val_loss: 0.1312\n",
            "Epoch 22/70\n",
            "1875/1875 [==============================] - 5s 3ms/step - loss: 0.1322 - val_loss: 0.1304\n",
            "Epoch 23/70\n",
            "1875/1875 [==============================] - 7s 4ms/step - loss: 0.1316 - val_loss: 0.1298\n",
            "Epoch 24/70\n",
            "1875/1875 [==============================] - 5s 3ms/step - loss: 0.1311 - val_loss: 0.1298\n",
            "Epoch 25/70\n",
            "1875/1875 [==============================] - 7s 3ms/step - loss: 0.1306 - val_loss: 0.1288\n",
            "Epoch 26/70\n",
            "1875/1875 [==============================] - 5s 3ms/step - loss: 0.1303 - val_loss: 0.1290\n",
            "Epoch 27/70\n",
            "1875/1875 [==============================] - 6s 3ms/step - loss: 0.1300 - val_loss: 0.1290\n",
            "Epoch 28/70\n",
            "1875/1875 [==============================] - 5s 3ms/step - loss: 0.1298 - val_loss: 0.1284\n",
            "Epoch 29/70\n",
            "1875/1875 [==============================] - 7s 4ms/step - loss: 0.1295 - val_loss: 0.1283\n",
            "Epoch 30/70\n",
            "1875/1875 [==============================] - 5s 3ms/step - loss: 0.1293 - val_loss: 0.1277\n",
            "Epoch 31/70\n",
            "1875/1875 [==============================] - 6s 3ms/step - loss: 0.1292 - val_loss: 0.1274\n",
            "Epoch 32/70\n",
            "1875/1875 [==============================] - 6s 3ms/step - loss: 0.1290 - val_loss: 0.1274\n",
            "Epoch 33/70\n",
            "1875/1875 [==============================] - 6s 3ms/step - loss: 0.1289 - val_loss: 0.1277\n",
            "Epoch 34/70\n",
            "1875/1875 [==============================] - 6s 3ms/step - loss: 0.1288 - val_loss: 0.1275\n",
            "Epoch 35/70\n",
            "1875/1875 [==============================] - 5s 3ms/step - loss: 0.1286 - val_loss: 0.1271\n",
            "Epoch 36/70\n",
            "1875/1875 [==============================] - 6s 3ms/step - loss: 0.1286 - val_loss: 0.1272\n",
            "Epoch 37/70\n",
            "1875/1875 [==============================] - 5s 3ms/step - loss: 0.1284 - val_loss: 0.1276\n",
            "Epoch 38/70\n",
            "1875/1875 [==============================] - 7s 3ms/step - loss: 0.1284 - val_loss: 0.1271\n",
            "Epoch 39/70\n",
            "1875/1875 [==============================] - 5s 3ms/step - loss: 0.1283 - val_loss: 0.1274\n",
            "Epoch 40/70\n",
            "1875/1875 [==============================] - 7s 3ms/step - loss: 0.1282 - val_loss: 0.1269\n",
            "Epoch 41/70\n",
            "1875/1875 [==============================] - 5s 3ms/step - loss: 0.1281 - val_loss: 0.1267\n",
            "Epoch 42/70\n",
            "1875/1875 [==============================] - 6s 3ms/step - loss: 0.1281 - val_loss: 0.1265\n",
            "Epoch 43/70\n",
            "1875/1875 [==============================] - 5s 3ms/step - loss: 0.1280 - val_loss: 0.1263\n",
            "Epoch 44/70\n",
            "1875/1875 [==============================] - 6s 3ms/step - loss: 0.1280 - val_loss: 0.1267\n",
            "Epoch 45/70\n",
            "1875/1875 [==============================] - 6s 3ms/step - loss: 0.1279 - val_loss: 0.1265\n",
            "Epoch 46/70\n",
            "1875/1875 [==============================] - 5s 3ms/step - loss: 0.1278 - val_loss: 0.1261\n",
            "Epoch 47/70\n",
            "1875/1875 [==============================] - 6s 3ms/step - loss: 0.1278 - val_loss: 0.1264\n",
            "Epoch 48/70\n",
            "1875/1875 [==============================] - 5s 3ms/step - loss: 0.1278 - val_loss: 0.1267\n",
            "Epoch 49/70\n",
            "1875/1875 [==============================] - 8s 4ms/step - loss: 0.1277 - val_loss: 0.1260\n",
            "Epoch 50/70\n",
            "1875/1875 [==============================] - 5s 3ms/step - loss: 0.1276 - val_loss: 0.1260\n",
            "Epoch 51/70\n",
            "1875/1875 [==============================] - 6s 3ms/step - loss: 0.1276 - val_loss: 0.1261\n",
            "Epoch 52/70\n",
            "1875/1875 [==============================] - 5s 3ms/step - loss: 0.1276 - val_loss: 0.1262\n",
            "Epoch 53/70\n",
            "1875/1875 [==============================] - 6s 3ms/step - loss: 0.1275 - val_loss: 0.1260\n",
            "Epoch 54/70\n",
            "1875/1875 [==============================] - 5s 3ms/step - loss: 0.1275 - val_loss: 0.1260\n",
            "Epoch 55/70\n",
            "1875/1875 [==============================] - 6s 3ms/step - loss: 0.1274 - val_loss: 0.1265\n",
            "Epoch 56/70\n",
            "1875/1875 [==============================] - 6s 3ms/step - loss: 0.1274 - val_loss: 0.1258\n",
            "Epoch 57/70\n",
            "1875/1875 [==============================] - 5s 3ms/step - loss: 0.1274 - val_loss: 0.1259\n",
            "Epoch 58/70\n",
            "1875/1875 [==============================] - 7s 4ms/step - loss: 0.1274 - val_loss: 0.1258\n",
            "Epoch 59/70\n",
            "1875/1875 [==============================] - 5s 3ms/step - loss: 0.1273 - val_loss: 0.1259\n",
            "Epoch 60/70\n",
            "1875/1875 [==============================] - 7s 4ms/step - loss: 0.1273 - val_loss: 0.1262\n",
            "Epoch 61/70\n",
            "1875/1875 [==============================] - 5s 3ms/step - loss: 0.1273 - val_loss: 0.1257\n",
            "Epoch 62/70\n",
            "1875/1875 [==============================] - 7s 3ms/step - loss: 0.1272 - val_loss: 0.1260\n",
            "Epoch 63/70\n",
            "1875/1875 [==============================] - 5s 3ms/step - loss: 0.1272 - val_loss: 0.1259\n",
            "Epoch 64/70\n",
            "1875/1875 [==============================] - 7s 4ms/step - loss: 0.1272 - val_loss: 0.1256\n",
            "Epoch 65/70\n",
            "1875/1875 [==============================] - 6s 3ms/step - loss: 0.1271 - val_loss: 0.1253\n",
            "Epoch 66/70\n",
            "1875/1875 [==============================] - 7s 4ms/step - loss: 0.1271 - val_loss: 0.1258\n",
            "Epoch 67/70\n",
            "1875/1875 [==============================] - 5s 3ms/step - loss: 0.1271 - val_loss: 0.1260\n",
            "Epoch 68/70\n",
            "1875/1875 [==============================] - 6s 3ms/step - loss: 0.1271 - val_loss: 0.1253\n",
            "Epoch 69/70\n",
            "1875/1875 [==============================] - 5s 3ms/step - loss: 0.1270 - val_loss: 0.1257\n",
            "Epoch 70/70\n",
            "1875/1875 [==============================] - 6s 3ms/step - loss: 0.1270 - val_loss: 0.1257\n"
          ]
        }
      ],
      "source": [
        "history = autoencoder.fit(train_images, train_images, epochs=70,\n",
        "validation_data=(test_images, test_images))"
      ]
    },
    {
      "cell_type": "code",
      "execution_count": 18,
      "metadata": {
        "colab": {
          "base_uri": "https://localhost:8080/",
          "height": 498
        },
        "id": "gbN6X633BBYG",
        "outputId": "d867e1bc-3113-4ff9-ce73-ddcf043b3342"
      },
      "outputs": [
        {
          "output_type": "execute_result",
          "data": {
            "text/plain": [
              "<matplotlib.legend.Legend at 0x7eadc4bd4a00>"
            ]
          },
          "metadata": {},
          "execution_count": 18
        },
        {
          "output_type": "display_data",
          "data": {
            "text/plain": [
              "<Figure size 640x480 with 1 Axes>"
            ],
            "image/png": "[encoded data removed]"
          },
          "metadata": {}
        }
      ],
      "source": [
        "import matplotlib.pyplot as plt\n",
        "plt.plot(history.history['loss'], label='Train')\n",
        "plt.plot(history.history['val_loss'], label='Validation')\n",
        "plt.ylabel('Binary Cross Entropy Loss')\n",
        "plt.xlabel('Epoch')\n",
        "plt.title('Autoencoder Reconstruction Loss', pad=13)\n",
        "plt.legend(loc='upper right')"
      ]
    },
    {
      "cell_type": "code",
      "execution_count": 19,
      "metadata": {
        "colab": {
          "base_uri": "https://localhost:8080/",
          "height": 157
        },
        "id": "p1IxinusBERA",
        "outputId": "06a9e5ba-6d3c-46c8-9425-24f101251976"
      },
      "outputs": [
        {
          "output_type": "display_data",
          "data": {
            "text/plain": [
              "<Figure size 900x200 with 5 Axes>"
            ],
            "image/png": "[encoded data removed]"
          },
          "metadata": {}
        }
      ],
      "source": [
        "n = 5\n",
        "plt.figure(figsize=(9, 2))\n",
        "for i in range(n):\n",
        "  ax = plt.subplot(1, n, i+1)\n",
        "  plt.imshow(test_images[i].reshape(28, 28), cmap=\"gray\")\n",
        "  ax.axis('off')\n",
        "plt.show()"
      ]
    },
    {
      "cell_type": "code",
      "execution_count": 20,
      "metadata": {
        "colab": {
          "base_uri": "https://localhost:8080/",
          "height": 174
        },
        "id": "swc8upS2BIi9",
        "outputId": "920dc4bd-9590-4e4c-fad4-8a3a5cd7c9a4"
      },
      "outputs": [
        {
          "output_type": "stream",
          "name": "stdout",
          "text": [
            "313/313 [==============================] - 0s 1ms/step\n"
          ]
        },
        {
          "output_type": "display_data",
          "data": {
            "text/plain": [
              "<Figure size 900x200 with 5 Axes>"
            ],
            "image/png": "[encoded data removed]"
          },
          "metadata": {}
        }
      ],
      "source": [
        "# Testing the model by reconstructing\n",
        "reconstructed_images = autoencoder.predict(test_images)\n",
        "\n",
        "n = 5\n",
        "plt.figure(figsize=(9, 2))\n",
        "for i in range(n):\n",
        "  ax = plt.subplot(1, n, i+1)\n",
        "  plt.imshow(reconstructed_images[i].reshape(28, 28), cmap=\"gray\")\n",
        "  ax.axis('off')\n",
        "plt.show()"
      ]
    },
    {
      "cell_type": "markdown",
      "metadata": {
        "id": "Epf4r7T_CSUA"
      },
      "source": [
        "CNN BASED AUTOENCODER"
      ]
    },
    {
      "cell_type": "code",
      "execution_count": 21,
      "metadata": {
        "colab": {
          "base_uri": "https://localhost:8080/"
        },
        "id": "Rupe4wE3CDCx",
        "outputId": "8ed01e5b-4293-4de7-be20-6d66bbb49e40"
      },
      "outputs": [
        {
          "output_type": "stream",
          "name": "stdout",
          "text": [
            "Model: \"model_3\"\n",
            "_________________________________________________________________\n",
            " Layer (type)                Output Shape              Param #   \n",
            "=================================================================\n",
            " input_3 (InputLayer)        [(None, 28, 28, 1)]       0         \n",
            "                                                                 \n",
            " conv2d (Conv2D)             (None, 28, 28, 32)        320       \n",
            "                                                                 \n",
            " max_pooling2d (MaxPooling2D  (None, 14, 14, 32)       0         \n",
            " )                                                               \n",
            "                                                                 \n",
            " conv2d_1 (Conv2D)           (None, 14, 14, 32)        9248      \n",
            "                                                                 \n",
            " max_pooling2d_1 (MaxPooling  (None, 7, 7, 32)         0         \n",
            " 2D)                                                             \n",
            "                                                                 \n",
            " conv2d_2 (Conv2D)           (None, 7, 7, 32)          9248      \n",
            "                                                                 \n",
            " up_sampling2d (UpSampling2D  (None, 14, 14, 32)       0         \n",
            " )                                                               \n",
            "                                                                 \n",
            " conv2d_3 (Conv2D)           (None, 14, 14, 32)        9248      \n",
            "                                                                 \n",
            " up_sampling2d_1 (UpSampling  (None, 28, 28, 32)       0         \n",
            " 2D)                                                             \n",
            "                                                                 \n",
            " conv2d_4 (Conv2D)           (None, 28, 28, 1)         289       \n",
            "                                                                 \n",
            "=================================================================\n",
            "Total params: 28,353\n",
            "Trainable params: 28,353\n",
            "Non-trainable params: 0\n",
            "_________________________________________________________________\n"
          ]
        }
      ],
      "source": [
        "from keras.layers import Input, Dense, Conv2D, MaxPooling2D, UpSampling2D\n",
        "from keras.models import Model\n",
        "from keras import backend as K\n",
        "input_img = Input(shape=(28, 28, 1)) # adapt this if using `channels_first` image data format\n",
        "x = Conv2D(32, (3, 3), activation='relu', padding='same')(input_img)\n",
        "x = MaxPooling2D((2, 2), padding='same')(x)\n",
        "x = Conv2D(32, (3, 3), activation='relu', padding='same')(x)\n",
        "encoded = MaxPooling2D((2, 2), padding='same')(x)\n",
        "# at this point the representation is (7, 7, 32)\n",
        "x = Conv2D(32, (3, 3), activation='relu', padding='same')(encoded)\n",
        "x = UpSampling2D((2, 2))(x)\n",
        "x = Conv2D(32, (3, 3), activation='relu', padding='same')(x)\n",
        "x = UpSampling2D((2, 2))(x)\n",
        "decoded = Conv2D(1, (3, 3), activation='sigmoid', padding='same')(x)\n",
        "# this model maps an input to its reconstruction\n",
        "autoencoder = Model(input_img, decoded)\n",
        "autoencoder.summary()"
      ]
    },
    {
      "cell_type": "code",
      "execution_count": 22,
      "metadata": {
        "id": "KGJdV2zhCJNS"
      },
      "outputs": [],
      "source": [
        "autoencoder.compile(optimizer='adam', loss='binary_crossentropy')"
      ]
    },
    {
      "cell_type": "code",
      "execution_count": 23,
      "metadata": {
        "colab": {
          "base_uri": "https://localhost:8080/"
        },
        "id": "o_WciTD3CK1d",
        "outputId": "c3082478-32c6-4837-aa85-f69e3c4be833"
      },
      "outputs": [
        {
          "output_type": "stream",
          "name": "stdout",
          "text": [
            "Epoch 1/2\n",
            "235/235 [==============================] - 182s 766ms/step - loss: 0.1413 - val_loss: 0.0830\n",
            "Epoch 2/2\n",
            "235/235 [==============================] - 171s 729ms/step - loss: 0.0797 - val_loss: 0.0763\n"
          ]
        },
        {
          "output_type": "execute_result",
          "data": {
            "text/plain": [
              "<keras.callbacks.History at 0x7eade32ce050>"
            ]
          },
          "metadata": {},
          "execution_count": 23
        }
      ],
      "source": [
        "autoencoder.fit(x_train, x_train,\n",
        "epochs=2,\n",
        "batch_size=256,\n",
        "shuffle=True,\n",
        "validation_data=(x_test, x_test))"
      ]
    },
    {
      "cell_type": "code",
      "execution_count": 24,
      "metadata": {
        "colab": {
          "base_uri": "https://localhost:8080/",
          "height": 174
        },
        "id": "L5jiZd4dCNkc",
        "outputId": "fda500ac-84bd-4544-9f8f-89665df5e5c9"
      },
      "outputs": [
        {
          "output_type": "stream",
          "name": "stdout",
          "text": [
            "313/313 [==============================] - 6s 20ms/step\n"
          ]
        },
        {
          "output_type": "display_data",
          "data": {
            "text/plain": [
              "<Figure size 900x200 with 5 Axes>"
            ],
            "image/png": "[encoded data removed]"
          },
          "metadata": {}
        }
      ],
      "source": [
        "reconstructed_images = autoencoder.predict(x_test)\n",
        "n = 5\n",
        "plt.figure(figsize=(9, 2))\n",
        "for i in range(n):\n",
        "  ax = plt.subplot(1, n, i+1)\n",
        "  plt.imshow(reconstructed_images[i].reshape(28, 28), cmap=\"gray\")\n",
        "  ax.axis('off')\n",
        "plt.show()"
      ]
    },
    {
      "cell_type": "markdown",
      "metadata": {
        "id": "kFtK4V3FCZlN"
      },
      "source": [
        "NOISE AUTOENCODER"
      ]
    },
    {
      "cell_type": "code",
      "execution_count": 25,
      "metadata": {
        "id": "Y_nZoOZFCdyd"
      },
      "outputs": [],
      "source": [
        "noise_factor = 0.5\n",
        "x_train_noisy = x_train + noise_factor * np.random.normal(loc=0.0, scale=1.0, size=x_train.shape)\n",
        "x_test_noisy = x_test + noise_factor * np.random.normal(loc=0.0, scale=1.0, size=x_test.shape)\n",
        "x_train_noisy = np.clip(x_train_noisy, 0., 1.)\n",
        "x_test_noisy = np.clip(x_test_noisy, 0., 1.)"
      ]
    },
    {
      "cell_type": "code",
      "execution_count": 26,
      "metadata": {
        "colab": {
          "base_uri": "https://localhost:8080/",
          "height": 123
        },
        "id": "qTOVaqy4ChGL",
        "outputId": "d3b5c3f0-055d-4c2f-f1b5-dac35bd6b4ec"
      },
      "outputs": [
        {
          "output_type": "display_data",
          "data": {
            "text/plain": [
              "<Figure size 2000x200 with 10 Axes>"
            ],
            "image/png": "[encoded data removed]"
          },
          "metadata": {}
        }
      ],
      "source": [
        "import matplotlib.pyplot as plt\n",
        "%matplotlib inline\n",
        "n = 10\n",
        "plt.figure(figsize=(20, 2))\n",
        "for i in range(1,n+1):\n",
        "  ax = plt.subplot(1, n, i)\n",
        "  plt.imshow(x_test_noisy[i].reshape(28, 28))\n",
        "  plt.gray()\n",
        "  ax.get_xaxis().set_visible(False)\n",
        "  ax.get_yaxis().set_visible(False)\n",
        "plt.show()"
      ]
    },
    {
      "cell_type": "code",
      "execution_count": 27,
      "metadata": {
        "colab": {
          "base_uri": "https://localhost:8080/"
        },
        "id": "lScMS-uVCqP2",
        "outputId": "5c90eebe-1828-498b-8246-2adc4b201ce7"
      },
      "outputs": [
        {
          "output_type": "stream",
          "name": "stdout",
          "text": [
            "Epoch 1/2\n",
            "235/235 [==============================] - 180s 766ms/step - loss: 0.1378 - val_loss: 0.1166\n",
            "Epoch 2/2\n",
            "235/235 [==============================] - 181s 769ms/step - loss: 0.1157 - val_loss: 0.1129\n"
          ]
        },
        {
          "output_type": "execute_result",
          "data": {
            "text/plain": [
              "<keras.callbacks.History at 0x7eadc62c1030>"
            ]
          },
          "metadata": {},
          "execution_count": 27
        }
      ],
      "source": [
        "autoencoder.fit(x_train_noisy, x_train,\n",
        "\n",
        "epochs=2,\n",
        "batch_size=256,\n",
        "shuffle=True,\n",
        "validation_data=(x_test_noisy, x_test))"
      ]
    },
    {
      "cell_type": "code",
      "execution_count": 30,
      "metadata": {
        "colab": {
          "base_uri": "https://localhost:8080/",
          "height": 498
        },
        "id": "tzK2YMmcCsU7",
        "outputId": "0066a46c-2540-4996-8d69-482d92f7e153"
      },
      "outputs": [
        {
          "output_type": "execute_result",
          "data": {
            "text/plain": [
              "<matplotlib.legend.Legend at 0x7eadc5af6ad0>"
            ]
          },
          "metadata": {},
          "execution_count": 30
        },
        {
          "output_type": "display_data",
          "data": {
            "text/plain": [
              "<Figure size 640x480 with 1 Axes>"
            ],
            "image/png": "[encoded data removed]"
          },
          "metadata": {}
        }
      ],
      "source": [
        "import matplotlib.pyplot as plt\n",
        "plt.plot(history.history['loss'], label='Train')\n",
        "plt.plot(history.history['val_loss'], label='Validation')\n",
        "plt.ylabel('Binary Cross Entropy Loss')\n",
        "plt.xlabel('Epoch')\n",
        "plt.title('Autoencoder Reconstruction Loss', pad=13)\n",
        "plt.legend(loc='upper right')"
      ]
    },
    {
      "cell_type": "code",
      "execution_count": 31,
      "metadata": {
        "colab": {
          "base_uri": "https://localhost:8080/",
          "height": 174
        },
        "id": "vfSBcAkrCuqJ",
        "outputId": "c3e57339-b53b-4ea3-d67d-041f310c4adb"
      },
      "outputs": [
        {
          "output_type": "stream",
          "name": "stdout",
          "text": [
            "313/313 [==============================] - 10s 33ms/step\n"
          ]
        },
        {
          "output_type": "display_data",
          "data": {
            "text/plain": [
              "<Figure size 900x200 with 5 Axes>"
            ],
            "image/png": "[encoded data removed]"
          },
          "metadata": {}
        }
      ],
      "source": [
        " reconstructed_images = autoencoder.predict(x_test_noisy)\n",
        "n = 5\n",
        "plt.figure(figsize=(9, 2))\n",
        "for i in range(n):\n",
        "  ax = plt.subplot(1, n, i+1)\n",
        "  plt.imshow(reconstructed_images[i].reshape(28, 28), cmap=\"gray\")\n",
        "  ax.axis('off')\n",
        "plt.show()"
      ]
    }
  ],
  "metadata": {
    "colab": {
      "provenance": []
    },
    "kernelspec": {
      "display_name": "Python 3 (ipykernel)",
      "language": "python",
      "name": "python3"
    },
    "language_info": {
      "codemirror_mode": {
        "name": "ipython",
        "version": 3
      },
      "file_extension": ".py",
      "mimetype": "text/x-python",
      "name": "python",
      "nbconvert_exporter": "python",
      "pygments_lexer": "ipython3",
      "version": "3.9.12"
    }
  },
  "nbformat": 4,
  "nbformat_minor": 0
}